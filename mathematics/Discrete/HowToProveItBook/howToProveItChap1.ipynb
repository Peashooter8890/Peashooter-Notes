{
 "cells": [
  {
   "cell_type": "markdown",
   "id": "24b5df6a-333c-4437-8327-28487b670825",
   "metadata": {},
   "source": [
    "<h1 style=\"color:red\">How to Prove It - Exercises</h1>"
   ]
  },
  {
   "cell_type": "code",
   "execution_count": 1,
   "id": "b815e764-7f3e-4a60-b414-5fc246603228",
   "metadata": {
    "tags": []
   },
   "outputs": [],
   "source": [
    "%run ../../utility/utility.ipynb"
   ]
  },
  {
   "cell_type": "markdown",
   "id": "cad23708-c078-45d9-8f7f-8756c2e58ffb",
   "metadata": {
    "tags": []
   },
   "source": [
    "<h2 style = \"color:green;\">Introduction Exercises</h2>"
   ]
  },
  {
   "cell_type": "markdown",
   "id": "1cd1ced7-ac23-4b7a-8e3f-68185019ad6e",
   "metadata": {
    "tags": []
   },
   "source": [
    "<h3 style=\"color:orange;\">Chapter 1.1 Examples</h3>"
   ]
  },
  {
   "cell_type": "markdown",
   "id": "a075e30b-8afa-4531-81de-87ef3ebe7da0",
   "metadata": {},
   "source": [
    "Example 1.1.2: Analyze the logical forms of the following statements:\n",
    "1. Either John went to the store, or we're out of eggs.\n",
    "2. Joe is going to leave home and not come back.\n",
    "3. Either Bill is at work and Jane isn’t, or Jane is at work and Bill isn’t."
   ]
  },
  {
   "cell_type": "markdown",
   "id": "2190ab21-1a66-4d99-9225-46d27c5f4f2e",
   "metadata": {},
   "source": [
    "<b>Solutions:</b><br>\n",
    "1. $P \\lor \\neg Q$\n",
    "2. $P \\land \\neg Q$\n",
    "3. $(P \\land \\neg Q) \\lor (\\neg P \\land Q)$"
   ]
  },
  {
   "cell_type": "markdown",
   "id": "110c6d6d-1650-4bbe-a155-dfc9b133fead",
   "metadata": {
    "tags": []
   },
   "source": [
    "<h3 style=\"color:orange;\">Chapter 1.1 Exercises</h3>"
   ]
  },
  {
   "cell_type": "markdown",
   "id": "64500f94-f014-405d-a6b9-5272e7ce91e9",
   "metadata": {},
   "source": [
    "Analyze the logical forms of the following statements:<br>\n",
    "(a) We’ll have either a reading assignment or homework problems, but we won’t have both homework problems and a test.<br>\n",
    "(b) You won’t go skiing, or you will and there won’t be any snow.<br>\n",
    "<img src=\"images/notLessThanOrEqual.png\" alt=\"sqrt(7) not \\le 2\" width=\"100\"/>"
   ]
  },
  {
   "cell_type": "markdown",
   "id": "5f9d3bb9-6539-4ff8-96d3-7da0582b60dd",
   "metadata": {},
   "source": [
    "<b>Solutions:</b><br>\n",
    "1. $(R \\lor H) \\land \\neg(H \\land T)$\n",
    "2. $\\neg Q \\lor \\neg P$\n",
    "3. $\\neg (Q < P) \\land \\neg (Q = P)$"
   ]
  },
  {
   "cell_type": "markdown",
   "id": "347c705c-5d53-42b3-98e7-ead711d92a94",
   "metadata": {},
   "source": [
    "Analyze the logical forms of the following statements:<br>\n",
    "(a) Either John and Bill are both telling the truth, or neither of them is.<br>\n",
    "(b) I’ll have either fish or chicken, but I won’t have both fish and mashed potatoes.<br>\n",
    "(c) 3 is a common divisor of 6, 9, and 15."
   ]
  },
  {
   "cell_type": "markdown",
   "id": "1eb6ac8d-4274-4b6e-86f6-7f1a5f3407ac",
   "metadata": {},
   "source": [
    "<b>Solutions:</b><br>\n",
    "1. $(J \\land B) \\lor (\\neg J \\land \\neg B)$\n",
    "2. $(F \\lor C) \\land \\neg (F \\land M)$\n",
    "3. If the premise $Q_n$ means that $Q$ is a divisor of $n$,<br>\n",
    "$Q_6 \\land Q_9 \\land Q_{15}$"
   ]
  },
  {
   "cell_type": "markdown",
   "id": "c1811044-d61a-4241-9c83-98591f6ed5bd",
   "metadata": {},
   "source": [
    "<p style=\"color:red\">These exercises are getting tedious so I will skip to next section.</p>"
   ]
  }
 ],
 "metadata": {
  "kernelspec": {
   "display_name": "SageMath 9.7",
   "language": "sage",
   "name": "sagemath"
  },
  "language_info": {
   "codemirror_mode": {
    "name": "ipython",
    "version": 3
   },
   "file_extension": ".py",
   "mimetype": "text/x-python",
   "name": "python",
   "nbconvert_exporter": "python",
   "pygments_lexer": "ipython3",
   "version": "3.10.9"
  }
 },
 "nbformat": 4,
 "nbformat_minor": 5
}
