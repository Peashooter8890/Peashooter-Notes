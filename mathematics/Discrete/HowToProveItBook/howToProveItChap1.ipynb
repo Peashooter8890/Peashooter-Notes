{
 "cells": [
  {
   "cell_type": "markdown",
   "id": "24b5df6a-333c-4437-8327-28487b670825",
   "metadata": {},
   "source": [
    "<h1 style=\"color:red\">How to Prove It - Exercises</h1>"
   ]
  },
  {
   "cell_type": "code",
   "execution_count": 1,
   "id": "b815e764-7f3e-4a60-b414-5fc246603228",
   "metadata": {
    "tags": []
   },
   "outputs": [],
   "source": [
    "%run ../../utility/utility.ipynb"
   ]
  },
  {
   "cell_type": "markdown",
   "id": "cad23708-c078-45d9-8f7f-8756c2e58ffb",
   "metadata": {
    "tags": []
   },
   "source": [
    "<h2 style = \"color:green;\">Introduction Exercises</h2>"
   ]
  },
  {
   "cell_type": "markdown",
   "id": "1cd1ced7-ac23-4b7a-8e3f-68185019ad6e",
   "metadata": {
    "tags": []
   },
   "source": [
    "<h3 style=\"color:orange;\">Chapter 1.1 Examples</h3>"
   ]
  },
  {
   "cell_type": "markdown",
   "id": "a075e30b-8afa-4531-81de-87ef3ebe7da0",
   "metadata": {},
   "source": [
    "Example 1.1.2: Analyze the logical forms of the following statements:\n",
    "1. Either John went to the store, or we're out of eggs.\n",
    "2. Joe is going to leave home and not come back.\n",
    "3. Either Bill is at work and Jane isn’t, or Jane is at work and Bill isn’t."
   ]
  },
  {
   "cell_type": "markdown",
   "id": "2190ab21-1a66-4d99-9225-46d27c5f4f2e",
   "metadata": {},
   "source": [
    "<b>Solutions:</b><br>\n",
    "1. $P \\lor \\neg Q$\n",
    "2. $P \\land \\neg Q$\n",
    "3. $(P \\land \\neg Q) \\lor (\\neg P \\land Q)$"
   ]
  },
  {
   "cell_type": "markdown",
   "id": "110c6d6d-1650-4bbe-a155-dfc9b133fead",
   "metadata": {
    "tags": []
   },
   "source": [
    "<h3 style=\"color:orange;\">Chapter 1.1 Exercises</h3>"
   ]
  },
  {
   "cell_type": "markdown",
   "id": "64500f94-f014-405d-a6b9-5272e7ce91e9",
   "metadata": {},
   "source": [
    "Analyze the logical forms of the following statements:<br>\n",
    "(a) We’ll have either a reading assignment or homework problems, but we won’t have both homework problems and a test.<br>\n",
    "(b) You won’t go skiing, or you will and there won’t be any snow.<br>\n",
    "<img src=\"images/notLessThanOrEqual.png\" alt=\"sqrt(7) not \\le 2\" width=\"100\"/>"
   ]
  },
  {
   "cell_type": "markdown",
   "id": "5f9d3bb9-6539-4ff8-96d3-7da0582b60dd",
   "metadata": {},
   "source": [
    "<b>Solutions:</b><br>\n",
    "1. $(R \\lor H) \\land \\neg(H \\land T)$\n",
    "2. $\\neg Q \\lor \\neg P$\n",
    "3. $\\neg (Q < P) \\land \\neg (Q = P)$"
   ]
  },
  {
   "cell_type": "markdown",
   "id": "347c705c-5d53-42b3-98e7-ead711d92a94",
   "metadata": {},
   "source": [
    "Analyze the logical forms of the following statements:<br>\n",
    "(a) Either John and Bill are both telling the truth, or neither of them is.<br>\n",
    "(b) I’ll have either fish or chicken, but I won’t have both fish and mashed potatoes.<br>\n",
    "(c) 3 is a common divisor of 6, 9, and 15."
   ]
  },
  {
   "cell_type": "markdown",
   "id": "1eb6ac8d-4274-4b6e-86f6-7f1a5f3407ac",
   "metadata": {},
   "source": [
    "<b>Solutions:</b><br>\n",
    "1. $(J \\land B) \\lor (\\neg J \\land \\neg B)$\n",
    "2. $(F \\lor C) \\land \\neg (F \\land M)$\n",
    "3. If the premise $Q_n$ means that $Q$ is a divisor of $n$,<br>\n",
    "$Q_6 \\land Q_9 \\land Q_{15}$"
   ]
  },
  {
   "cell_type": "markdown",
   "id": "c1811044-d61a-4241-9c83-98591f6ed5bd",
   "metadata": {},
   "source": [
    "<p style=\"color:red\">These exercises are getting tedious so I will skip to next section.</p>"
   ]
  },
  {
   "cell_type": "markdown",
   "id": "d1274377-d0bf-4ac4-add9-e89a48e0c099",
   "metadata": {
    "tags": []
   },
   "source": [
    "<h3 style=\"color:orange;\">Chapter 1.2 Exercises</h3>"
   ]
  },
  {
   "cell_type": "markdown",
   "id": "9a70986a-1317-4eac-8a10-383ff8e59ca9",
   "metadata": {},
   "source": [
    "Make truth tables for the following:<br>\n",
    "(a) $\\neg [P \\land (Q \\lor \\neg P)]$<br>\n",
    "(b) $(P \\lor Q) \\land (\\neg P \\lor Q)$"
   ]
  },
  {
   "cell_type": "code",
   "execution_count": 9,
   "id": "4480ef03-69e5-4792-a9e8-c0e1bb307334",
   "metadata": {
    "tags": []
   },
   "outputs": [
    {
     "data": {
      "text/html": [
       "<div class=\"notruncate\">\n",
       "<table border=\"1\" class=\"table_form\">\n",
       "<tbody>\n",
       "<tr>\n",
       "<th style=\"text-align:left\">\\(n\\)</th>\n",
       "<th style=\"text-align:left\">Is \\(n\\) prime?</th>\n",
       "<th style=\"text-align:left\">\\(3^n - 1\\)</th>\n",
       "<th style=\"text-align:left\">Is \\(3^n - 1\\) prime?</th>\n",
       "</tr>\n",
       "<tr class =\"row-a\">\n",
       "<td style=\"text-align:left\">\\(\\mathrm{False}\\)</td>\n",
       "<td style=\"text-align:left\">\\(\\mathrm{False}\\)</td>\n",
       "<td style=\"text-align:left\">\\(\\mathrm{True}\\)</td>\n",
       "<td style=\"text-align:left\">\\(\\mathrm{False}\\)</td>\n",
       "<td style=\"text-align:left\">\\(\\mathrm{False}\\)</td>\n",
       "</tr>\n",
       "<tr class =\"row-b\">\n",
       "<td style=\"text-align:left\">\\(\\mathrm{False}\\)</td>\n",
       "<td style=\"text-align:left\">\\(\\mathrm{True}\\)</td>\n",
       "<td style=\"text-align:left\">\\(\\mathrm{True}\\)</td>\n",
       "<td style=\"text-align:left\">\\(\\mathrm{False}\\)</td>\n",
       "<td style=\"text-align:left\">\\(\\mathrm{False}\\)</td>\n",
       "</tr>\n",
       "<tr class =\"row-a\">\n",
       "<td style=\"text-align:left\">\\(\\mathrm{True}\\)</td>\n",
       "<td style=\"text-align:left\">\\(\\mathrm{False}\\)</td>\n",
       "<td style=\"text-align:left\">\\(\\mathrm{True}\\)</td>\n",
       "<td style=\"text-align:left\">\\(\\mathrm{False}\\)</td>\n",
       "<td style=\"text-align:left\">\\(\\mathrm{True}\\)</td>\n",
       "</tr>\n",
       "<tr class =\"row-b\">\n",
       "<td style=\"text-align:left\">\\(\\mathrm{True}\\)</td>\n",
       "<td style=\"text-align:left\">\\(\\mathrm{True}\\)</td>\n",
       "<td style=\"text-align:left\">\\(\\mathrm{True}\\)</td>\n",
       "<td style=\"text-align:left\">\\(\\mathrm{False}\\)</td>\n",
       "<td style=\"text-align:left\">\\(\\mathrm{True}\\)</td>\n",
       "</tr>\n",
       "</tbody>\n",
       "</table>\n",
       "</div>"
      ],
      "text/plain": [
       "+-------+---------------+-----------+---------------------+\n",
       "| $n$   | Is $n$ prime? | $3^n - 1$ | Is $3^n - 1$ prime? |\n",
       "+=======+===============+===========+=====================+\n",
       "| False | False         | True      | False               |\n",
       "+-------+---------------+-----------+---------------------+\n",
       "| False | True          | True      | False               |\n",
       "+-------+---------------+-----------+---------------------+\n",
       "| True  | False         | True      | False               |\n",
       "+-------+---------------+-----------+---------------------+\n",
       "| True  | True          | True      | False               |\n",
       "+-------+---------------+-----------+---------------------+"
      ]
     },
     "metadata": {},
     "output_type": "display_data"
    },
    {
     "name": "stdout",
     "output_type": "stream",
     "text": [
      "[True, True, True, True]\n"
     ]
    }
   ],
   "source": [
    "# set the parameters\n",
    "start, end = 1, 20\n",
    "\n",
    "# establish the rows\n",
    "P = [False,False,True,True]\n",
    "Q = [False,True,False,True]\n",
    "statement1 = [P[i] or (Q[i] or not P[i]) for i in range(len(P))]\n",
    "statement2 = [P[i] and not (Q[i] or not Q[i]) for i in range(len(P))]\n",
    "statement3 = [P[i] or not (Q[i] or not Q[i]) for i in range(len(P))]\n",
    "\n",
    "# clean table so that each row becomes a column\n",
    "row_list = [P,Q,statement1,statement2,statement3]\n",
    "column_list = columnify(row_list)\n",
    "\n",
    "# columns & rows\n",
    "column_headers = ['$n$', 'Is $n$ prime?', '$3^n - 1$', 'Is $3^n - 1$ prime?']\n",
    "\n",
    "T = table(column_list, header_row=column_headers, frame=True)\n",
    "display(T)\n",
    "print(statement1)"
   ]
  },
  {
   "cell_type": "code",
   "execution_count": 3,
   "id": "9d481bac-7264-41b4-b4c2-b29b77f9c0c3",
   "metadata": {
    "tags": []
   },
   "outputs": [
    {
     "ename": "SyntaxError",
     "evalue": "invalid syntax (1857603129.py, line 3)",
     "output_type": "error",
     "traceback": [
      "\u001b[0;36m  Cell \u001b[0;32mIn[3], line 3\u001b[0;36m\u001b[0m\n\u001b[0;31m    statement1 = lambda(Q,P): [for i in range(len(P)): P[i] + Q[i]]\u001b[0m\n\u001b[0m                       ^\u001b[0m\n\u001b[0;31mSyntaxError\u001b[0m\u001b[0;31m:\u001b[0m invalid syntax\n"
     ]
    }
   ],
   "source": [
    "P = [1,2,3]\n",
    "Q = [4,5,6]\n"
   ]
  }
 ],
 "metadata": {
  "kernelspec": {
   "display_name": "SageMath 9.7",
   "language": "sage",
   "name": "sagemath"
  },
  "language_info": {
   "codemirror_mode": {
    "name": "ipython",
    "version": 3
   },
   "file_extension": ".py",
   "mimetype": "text/x-python",
   "name": "python",
   "nbconvert_exporter": "python",
   "pygments_lexer": "ipython3",
   "version": "3.10.9"
  }
 },
 "nbformat": 4,
 "nbformat_minor": 5
}
