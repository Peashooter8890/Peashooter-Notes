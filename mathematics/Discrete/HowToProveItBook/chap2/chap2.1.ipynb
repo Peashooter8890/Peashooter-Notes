{
 "cells": [
  {
   "cell_type": "raw",
   "id": "9e9db5f8-6248-4c95-ac4c-d91010fc0e8e",
   "metadata": {},
   "source": [
    "6. Universe is all people.\n",
    "\n",
    "(a) There is at least one x in which all y is a child of x. \n",
    "False - God cannot be mathematically proven \n",
    "\n",
    "(b) For all x, there exists one y who is a child of x. \n",
    "False - Some people don't have children\n",
    "\n",
    "(c) There exists no x for at least one y which y is a child of x\n",
    "False - there is at least one person with a parent\n",
    "\n",
    "(d) There is at least one x in which y is not a child of x. \n",
    "True - some people don't have children\n",
    "\n",
    "(e) There is at least one x in which at least one y is not a child of x. \n",
    "True - same as the last one"
   ]
  },
  {
   "cell_type": "raw",
   "id": "9ff87f2c-51b5-45f1-87f5-ed193220fb19",
   "metadata": {},
   "source": [
    "7. Universe is all natural numbers (positive integers)\n",
    "\n",
    "(a) For all x, there exists a y in which 2x-y is 0. \n",
    "True, because y = 2x exists. \n",
    "\n",
    "(b) There exists a y in which all x in 2x-y is 0. \n",
    "False - no value of y gives a zero for all values of x. \n",
    "\n",
    "(c) For all x, there exists a y in which x-2y is 0.\n",
    "False, because while y = 1/2x might exist, x being an odd number implies that y is not an integer, violating the law of natural numnbers. \n",
    "\n",
    "(d) For all x, x < 10 implies that for all y, y is less than x if y < 9. \n",
    "True, because 9 < 10. \n",
    "\n",
    "(e) There exists a y for which a z exists that y + z is 100. \n",
    "True, because z = 100 - y exists. \n",
    "\n",
    "(f) For all x, there is a y in which y is greater than x AND there exists a z in which y + z is 100. \n",
    "False, because we are dealing with natural numbers. If x > 100, at least one term in y + z needs to be negative. "
   ]
  }
 ],
 "metadata": {
  "kernelspec": {
   "display_name": "SageMath 9.7",
   "language": "sage",
   "name": "sagemath"
  },
  "language_info": {
   "codemirror_mode": {
    "name": "ipython",
    "version": 3
   },
   "file_extension": ".py",
   "mimetype": "text/x-python",
   "name": "python",
   "nbconvert_exporter": "python",
   "pygments_lexer": "ipython3",
   "version": "3.10.9"
  }
 },
 "nbformat": 4,
 "nbformat_minor": 5
}
