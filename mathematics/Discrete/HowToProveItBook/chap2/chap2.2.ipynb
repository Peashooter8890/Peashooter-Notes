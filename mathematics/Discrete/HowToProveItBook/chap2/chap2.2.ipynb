{
 "cells": [
  {
   "cell_type": "code",
   "execution_count": 2,
   "id": "5ae05bfe-4d8a-4d78-b533-fa71c084d48f",
   "metadata": {
    "tags": []
   },
   "outputs": [
    {
     "name": "stdout",
     "output_type": "stream",
     "text": [
      "General Python file succesfully activated!\n",
      "Sage Specific file successfully activated!\n",
      "Number Theory file succesfully activated!\n",
      "Formal Logic file successfully activated!\n"
     ]
    }
   ],
   "source": [
    "import os\n",
    "%run ../../../utility/utility.ipynb"
   ]
  },
  {
   "cell_type": "code",
   "execution_count": 17,
   "id": "8557762e-b029-43ba-9ccd-953b83078f7f",
   "metadata": {
    "tags": []
   },
   "outputs": [
    {
     "data": {
      "text/latex": [
       "$\n",
       "\\textbf{Quantifier Negation Laws}\n",
       "\\newline\n",
       "\\neg \\exists{x} P(x) = \\forall{x} \\neg P(x) \n",
       "\\newline\n",
       "\\neg \\forall{x} P(x) = \\exists{x} \\neg P(x)\n",
       "$\n"
      ],
      "text/plain": [
       "<IPython.core.display.Latex object>"
      ]
     },
     "metadata": {},
     "output_type": "display_data"
    }
   ],
   "source": [
    "%%latex\n",
    "$\n",
    "\\textbf{Quantifier Negation Laws}\n",
    "\\newline\n",
    "\\neg \\exists{x} P(x) = \\forall{x} \\neg P(x) \n",
    "\\newline\n",
    "\\neg \\forall{x} P(x) = \\exists{x} \\neg P(x)\n",
    "$"
   ]
  },
  {
   "cell_type": "raw",
   "id": "6d91d0fd-c0b2-4e71-9f57-20dd26a09d51",
   "metadata": {
    "tags": []
   },
   "source": [
    "12. \n",
    "\n",
    "(a) There exists one student taught by x. \n",
    "\n",
    "(b) There exists at least one teacher who teaches only one student.\n",
    "\n",
    "(c) There exists one teacher having at least one student. \n",
    "\n",
    "(d) There exists at least one student who has only one teacher. \n",
    "\n",
    "(e) There exists only one teacher who teaches only one student. \n",
    "\n",
    "(f) There exists at least one teacher who has at least one student who is taught by that teacher AND does not have classmates. "
   ]
  }
 ],
 "metadata": {
  "kernelspec": {
   "display_name": "SageMath 9.7",
   "language": "sage",
   "name": "sagemath"
  },
  "language_info": {
   "codemirror_mode": {
    "name": "ipython",
    "version": 3
   },
   "file_extension": ".py",
   "mimetype": "text/x-python",
   "name": "python",
   "nbconvert_exporter": "python",
   "pygments_lexer": "ipython3",
   "version": "3.10.9"
  }
 },
 "nbformat": 4,
 "nbformat_minor": 5
}
