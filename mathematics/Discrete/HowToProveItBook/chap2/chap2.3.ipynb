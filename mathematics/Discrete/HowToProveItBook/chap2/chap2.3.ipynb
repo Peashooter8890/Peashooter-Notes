{
 "cells": [
  {
   "cell_type": "code",
   "execution_count": 1,
   "id": "2d424bff-813b-45b9-98fa-b824a99bb5c0",
   "metadata": {
    "tags": []
   },
   "outputs": [
    {
     "name": "stdout",
     "output_type": "stream",
     "text": [
      "General Python file succesfully activated!\n",
      "Sage Specific file successfully activated!\n",
      "Number Theory file succesfully activated!\n",
      "Formal Logic file successfully activated!\n"
     ]
    }
   ],
   "source": [
    "%run ../../../utility/utility.ipynb"
   ]
  },
  {
   "cell_type": "raw",
   "id": "2cb4c547-3283-48e6-9cb8-dd142b3ca871",
   "metadata": {},
   "source": []
  }
 ],
 "metadata": {
  "kernelspec": {
   "display_name": "SageMath 9.7",
   "language": "sage",
   "name": "sagemath"
  },
  "language_info": {
   "codemirror_mode": {
    "name": "ipython",
    "version": 3
   },
   "file_extension": ".py",
   "mimetype": "text/x-python",
   "name": "python",
   "nbconvert_exporter": "python",
   "pygments_lexer": "ipython3",
   "version": "3.10.9"
  }
 },
 "nbformat": 4,
 "nbformat_minor": 5
}
