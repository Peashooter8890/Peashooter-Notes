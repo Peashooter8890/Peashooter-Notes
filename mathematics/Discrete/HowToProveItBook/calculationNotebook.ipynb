{
 "cells": [
  {
   "cell_type": "markdown",
   "id": "75701652-3920-4f1c-9e9f-2afeb8508a7a",
   "metadata": {},
   "source": [
    "<h1 style = \"color:red;\">Random Calculations Notebook</h1>"
   ]
  },
  {
   "cell_type": "markdown",
   "id": "d9dcf19e-a921-40dc-8e00-8fae8d8f95da",
   "metadata": {},
   "source": [
    "This notebook is basically a replacement for a calculator. I'm fed up with trying to code everything. I'm going to focus on the math part now. "
   ]
  },
  {
   "cell_type": "code",
   "execution_count": 30,
   "id": "79e8d694-9ae4-4418-828b-5e258c916452",
   "metadata": {
    "tags": []
   },
   "outputs": [
    {
     "name": "stdout",
     "output_type": "stream",
     "text": [
      "General Python file succesfully activated!\n",
      "Sage Specific file successfully activated!\n",
      "Number Theory file succesfully activated!\n",
      "Formal Logic file successfully activated!\n",
      "Digital Algebra file succesfully activated!\n"
     ]
    }
   ],
   "source": [
    "import os\n",
    "import math\n",
    "from IPython.display import display, Math\n",
    "%run ../../utility/utility.ipynb"
   ]
  },
  {
   "cell_type": "code",
   "execution_count": 29,
   "id": "d69463c6-baa5-40ae-b67d-99f267260eb9",
   "metadata": {},
   "outputs": [
    {
     "name": "stdout",
     "output_type": "stream",
     "text": [
      "x^2+1=0\n"
     ]
    }
   ],
   "source": [
    "eq = str (\n",
    "    x^2 + 1\n",
    ")\n",
    "\n",
    "eq = equationFormatter(eq)\n",
    "print(eq)"
   ]
  },
  {
   "cell_type": "code",
   "execution_count": 28,
   "id": "45729a0e-f295-4872-9506-6c03b2320e49",
   "metadata": {
    "tags": []
   },
   "outputs": [
    {
     "data": {
      "text/plain": [
       "{1, 2, 4, 5, 10, 20, 25, 50, 100}"
      ]
     },
     "metadata": {},
     "output_type": "display_data"
    }
   ],
   "source": [
    "factor1 = factors(100)\n",
    "factor2 = factors(50)\n",
    "display(factor1.numerical)"
   ]
  },
  {
   "cell_type": "code",
   "execution_count": null,
   "id": "ccc7346c-faab-47c4-859e-c26d510a5c54",
   "metadata": {},
   "outputs": [],
   "source": []
  }
 ],
 "metadata": {
  "kernelspec": {
   "display_name": "SageMath 9.7",
   "language": "sage",
   "name": "sagemath"
  },
  "language_info": {
   "codemirror_mode": {
    "name": "ipython",
    "version": 3
   },
   "file_extension": ".py",
   "mimetype": "text/x-python",
   "name": "python",
   "nbconvert_exporter": "python",
   "pygments_lexer": "ipython3",
   "version": "3.10.9"
  }
 },
 "nbformat": 4,
 "nbformat_minor": 5
}
