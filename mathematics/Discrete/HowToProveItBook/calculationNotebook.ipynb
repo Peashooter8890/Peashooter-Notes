{
 "cells": [
  {
   "cell_type": "markdown",
   "id": "75701652-3920-4f1c-9e9f-2afeb8508a7a",
   "metadata": {},
   "source": [
    "<h1 style = \"color:red;\">Random Calculations Notebook</h1>"
   ]
  },
  {
   "cell_type": "markdown",
   "id": "d9dcf19e-a921-40dc-8e00-8fae8d8f95da",
   "metadata": {},
   "source": [
    "This notebook is basically a replacement for a calculator. I'm fed up with trying to code everything. I'm going to focus on the math part now. "
   ]
  },
  {
   "cell_type": "code",
   "execution_count": 2,
   "id": "79e8d694-9ae4-4418-828b-5e258c916452",
   "metadata": {
    "tags": []
   },
   "outputs": [],
   "source": [
    "%run ../../utility/utility.ipynb"
   ]
  },
  {
   "cell_type": "code",
   "execution_count": 22,
   "id": "0862c6d3-6b1c-49b5-b9ae-2f866799fef9",
   "metadata": {
    "tags": []
   },
   "outputs": [
    {
     "data": {
      "text/latex": [
       "$\\displaystyle \\left[x = \\left(-1\\right)\\right]$"
      ],
      "text/plain": [
       "<IPython.core.display.Math object>"
      ]
     },
     "execution_count": 22,
     "metadata": {},
     "output_type": "execute_result"
    }
   ],
   "source": [
    "x = var('x')\n",
    "eq = 2*x + 2\n",
    "Math(latex(solve(eq,x)))"
   ]
  },
  {
   "cell_type": "raw",
   "id": "ea068956-52f6-4b3f-bb77-796a7ac350c1",
   "metadata": {},
   "source": [
    "BASIC OPERATIONS\n",
    "\n",
    "finish: \n",
    "exit and output summary in latex\n",
    "\n",
    "undo:\n",
    "undo last step\n",
    "\n",
    "redo: \n",
    "redo last step\n",
    "\n",
    "move <element>: \n",
    "move <element> to opposite side. If no matching element, show error message.\n",
    "If more than one element, make user choose \"1 for right\", \"2 for left\"\n",
    "\n",
    "square:\n",
    "squares both sides\n",
    "\n",
    "sqrt:\n",
    "square root both sides\n",
    "\n",
    "multiply <input>: \n",
    "multiply both sides by <input>\n",
    "\n",
    "divide <input>: \n",
    "divide both sides by <input>\n",
    "\n",
    "GCDfactor:\n",
    "factor GCD from left side\n",
    "\n",
    "fractionform:\n",
    "make everything fraction form\n",
    "\n",
    "decimalform: \n",
    "make everything decimal form\n",
    "\n",
    "quadraticformula:\n",
    "apply quadratic formula to left side\n",
    "\n",
    "substitute <eq_i> in <eq_k>:\n",
    "substitute an equation in another equation\n",
    "if an equation is not in proper positive var = <expr> form, raise error"
   ]
  },
  {
   "cell_type": "raw",
   "id": "65395950-3185-4386-ba8c-47e2c4bc3226",
   "metadata": {},
   "source": [
    "ex. '2*x^{23} + x + 5 = 45'"
   ]
  },
  {
   "cell_type": "code",
   "execution_count": 79,
   "id": "a1841180-a43a-41f6-8513-ec34134564d7",
   "metadata": {
    "tags": []
   },
   "outputs": [
    {
     "data": {
      "text/latex": [
       "$\\displaystyle 2x^{23}+x+5=45$"
      ],
      "text/plain": [
       "<IPython.core.display.Math object>"
      ]
     },
     "execution_count": 79,
     "metadata": {},
     "output_type": "execute_result"
    }
   ],
   "source": [
    "ans = str(latex(2*x^23 + x + 5 == 45))\n",
    "ans = ans.replace(' ', '')\n",
    "ans = ans.replace('\\\\,x','x')\n",
    "Math(ans)"
   ]
  },
  {
   "cell_type": "code",
   "execution_count": 88,
   "id": "07ff5c28-b74b-44c3-8eb1-5ec3da5a5da8",
   "metadata": {
    "tags": []
   },
   "outputs": [
    {
     "data": {
      "text/plain": [
       "[0, 1, 2, 3, 4, 5, 6]"
      ]
     },
     "execution_count": 88,
     "metadata": {},
     "output_type": "execute_result"
    }
   ],
   "source": [
    "def find(string, char):\n",
    "    return [i for i, letter in enumerate(string) if letter == char]\n",
    "\n",
    "string = 'ooooooo'\n",
    "char = 'life'\n",
    "\n",
    "find(string,char)"
   ]
  }
 ],
 "metadata": {
  "kernelspec": {
   "display_name": "SageMath 9.7",
   "language": "sage",
   "name": "sagemath"
  },
  "language_info": {
   "codemirror_mode": {
    "name": "ipython",
    "version": 3
   },
   "file_extension": ".py",
   "mimetype": "text/x-python",
   "name": "python",
   "nbconvert_exporter": "python",
   "pygments_lexer": "ipython3",
   "version": "3.10.9"
  }
 },
 "nbformat": 4,
 "nbformat_minor": 5
}
