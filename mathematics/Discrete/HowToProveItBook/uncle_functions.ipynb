{
 "cells": [
  {
   "cell_type": "code",
   "execution_count": null,
   "id": "ba733802-0c0b-46c6-ac5c-87f42a5efa16",
   "metadata": {},
   "outputs": [],
   "source": [
    "def sigma(start,end,equation):\n",
    "    for i in range(start,(end+1)):\n",
    "        \n",
    "        \n",
    "\n",
    "def isEven(num):\n",
    "    if(num%2 == 0):\n",
    "        return True\n",
    "    return False\n",
    "\n",
    "def isOdd(num):\n",
    "    if(num%2 == 1):\n",
    "        return True\n",
    "    return False"
   ]
  }
 ],
 "metadata": {
  "kernelspec": {
   "display_name": "SageMath 9.7",
   "language": "sage",
   "name": "sagemath"
  },
  "language_info": {
   "codemirror_mode": {
    "name": "ipython",
    "version": 3
   },
   "file_extension": ".py",
   "mimetype": "text/x-python",
   "name": "python",
   "nbconvert_exporter": "python",
   "pygments_lexer": "ipython3",
   "version": "3.10.9"
  }
 },
 "nbformat": 4,
 "nbformat_minor": 5
}
