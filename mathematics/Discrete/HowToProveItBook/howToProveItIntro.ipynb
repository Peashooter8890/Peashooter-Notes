{
 "cells": [
  {
   "cell_type": "markdown",
   "id": "60a9fa15-6dad-4fe7-9b0e-8e60aaf5dfbc",
   "metadata": {},
   "source": [
    "<h1 style=\"color:red\">How to Prove It - Exercises</h1>"
   ]
  },
  {
   "cell_type": "code",
   "execution_count": 2,
   "id": "6f04c6f8-78d0-4f0d-92c0-d8c2f544df89",
   "metadata": {
    "tags": []
   },
   "outputs": [],
   "source": [
    "%run ../../utility/utility.ipynb"
   ]
  },
  {
   "cell_type": "markdown",
   "id": "8dc491c4-a8d7-4ae0-bceb-5b6cad65de16",
   "metadata": {},
   "source": [
    "<h2 style = \"color:green;\">Introduction Exercises</h2>"
   ]
  },
  {
   "cell_type": "markdown",
   "id": "fcb4f45a-dcd4-4d97-a0b7-b3fa8fdf10f5",
   "metadata": {
    "tags": []
   },
   "source": [
    "<h3 style=\"color:orange;\">Applying the Even $2^n - 1$ Theorem</h3>"
   ]
  },
  {
   "cell_type": "markdown",
   "id": "5f0002d2-36ed-4caa-b5ef-1574d7b0c04a",
   "metadata": {},
   "source": [
    "<img src=\"images/evenConjecture.png\" alt=\"Even $2^n-1$ Theorem\" width=\"400\"/>"
   ]
  },
  {
   "cell_type": "markdown",
   "id": "415a1fce-e39d-457a-82ae-dcb11bb32962",
   "metadata": {},
   "source": [
    "1. (a) Factor $2^{15} − 1 = 32,767$ into a product of two smaller positive integers."
   ]
  },
  {
   "cell_type": "code",
   "execution_count": 2,
   "id": "13ba0b30-eb1a-4924-95c2-dcf6cde794e3",
   "metadata": {
    "tags": []
   },
   "outputs": [
    {
     "name": "stdout",
     "output_type": "stream",
     "text": [
      "1057 31\n"
     ]
    }
   ],
   "source": [
    "n = 15\n",
    "factor = factors(n).minimal\n",
    "a, b = min(factor), max(factor)\n",
    "first_factor = 1\n",
    "for i in range(1,a):\n",
    "    first_factor += 2^(b*i)\n",
    "second_factor = 2^b - 1\n",
    "\n",
    "print(first_factor,second_factor)"
   ]
  },
  {
   "cell_type": "markdown",
   "id": "87e0c9f1-9f3e-4059-b295-f8c206a6b722",
   "metadata": {},
   "source": [
    "1. (b) Find an integer $x$ such that $2^{32,767} − 1$ is divisible by $x$ and $1 < x < 32,767$. "
   ]
  },
  {
   "cell_type": "code",
   "execution_count": 3,
   "id": "5c9ef673-b1d1-4310-9454-011429e6e799",
   "metadata": {
    "tags": []
   },
   "outputs": [
    {
     "name": "stdout",
     "output_type": "stream",
     "text": [
      "2147483647\n"
     ]
    }
   ],
   "source": [
    "# get factors of 32767 from last cell\n",
    "a,b = 31, 1057 \n",
    "\n",
    "# get the smaller factor so that the number isn't too big\n",
    "n = min(a,b)\n",
    "print(2^n - 1)"
   ]
  },
  {
   "cell_type": "code",
   "execution_count": 123,
   "id": "f2422251-6bbf-4333-b3c1-b85d75c21728",
   "metadata": {
    "tags": []
   },
   "outputs": [
    {
     "data": {
      "text/html": [
       "<div class=\"notruncate\">\n",
       "<table border=\"1\" class=\"table_form\">\n",
       "<tbody>\n",
       "<tr>\n",
       "<th style=\"text-align:left\">\\(n\\)</th>\n",
       "<th style=\"text-align:left\">Is \\(n\\) prime?</th>\n",
       "<th style=\"text-align:left\">\\(3^n - 2^n\\)</th>\n",
       "<th style=\"text-align:left\">Is \\(3^n - 2^n\\) prime?</th>\n",
       "</tr>\n",
       "<tr class =\"row-a\">\n",
       "<td style=\"text-align:left\">\\(1\\)</td>\n",
       "<td style=\"text-align:left\">\\(\\mathrm{True}\\)</td>\n",
       "<td style=\"text-align:left\">\\(1\\)</td>\n",
       "<td style=\"text-align:left\">\\(\\mathrm{True}\\)</td>\n",
       "</tr>\n",
       "<tr class =\"row-b\">\n",
       "<td style=\"text-align:left\">\\(2\\)</td>\n",
       "<td style=\"text-align:left\">\\(\\mathrm{True}\\)</td>\n",
       "<td style=\"text-align:left\">\\(5\\)</td>\n",
       "<td style=\"text-align:left\">\\(\\mathrm{True}\\)</td>\n",
       "</tr>\n",
       "<tr class =\"row-a\">\n",
       "<td style=\"text-align:left\">\\(3\\)</td>\n",
       "<td style=\"text-align:left\">\\(\\mathrm{True}\\)</td>\n",
       "<td style=\"text-align:left\">\\(19\\)</td>\n",
       "<td style=\"text-align:left\">\\(\\mathrm{True}\\)</td>\n",
       "</tr>\n",
       "<tr class =\"row-b\">\n",
       "<td style=\"text-align:left\">\\(4\\)</td>\n",
       "<td style=\"text-align:left\">\\(\\mathrm{False}\\)</td>\n",
       "<td style=\"text-align:left\">\\(65\\)</td>\n",
       "<td style=\"text-align:left\">\\(\\mathrm{False}\\)</td>\n",
       "</tr>\n",
       "<tr class =\"row-a\">\n",
       "<td style=\"text-align:left\">\\(5\\)</td>\n",
       "<td style=\"text-align:left\">\\(\\mathrm{True}\\)</td>\n",
       "<td style=\"text-align:left\">\\(211\\)</td>\n",
       "<td style=\"text-align:left\">\\(\\mathrm{True}\\)</td>\n",
       "</tr>\n",
       "<tr class =\"row-b\">\n",
       "<td style=\"text-align:left\">\\(6\\)</td>\n",
       "<td style=\"text-align:left\">\\(\\mathrm{False}\\)</td>\n",
       "<td style=\"text-align:left\">\\(665\\)</td>\n",
       "<td style=\"text-align:left\">\\(\\mathrm{False}\\)</td>\n",
       "</tr>\n",
       "<tr class =\"row-a\">\n",
       "<td style=\"text-align:left\">\\(7\\)</td>\n",
       "<td style=\"text-align:left\">\\(\\mathrm{True}\\)</td>\n",
       "<td style=\"text-align:left\">\\(2059\\)</td>\n",
       "<td style=\"text-align:left\">\\(\\mathrm{False}\\)</td>\n",
       "</tr>\n",
       "<tr class =\"row-b\">\n",
       "<td style=\"text-align:left\">\\(8\\)</td>\n",
       "<td style=\"text-align:left\">\\(\\mathrm{False}\\)</td>\n",
       "<td style=\"text-align:left\">\\(6305\\)</td>\n",
       "<td style=\"text-align:left\">\\(\\mathrm{False}\\)</td>\n",
       "</tr>\n",
       "<tr class =\"row-a\">\n",
       "<td style=\"text-align:left\">\\(9\\)</td>\n",
       "<td style=\"text-align:left\">\\(\\mathrm{False}\\)</td>\n",
       "<td style=\"text-align:left\">\\(19171\\)</td>\n",
       "<td style=\"text-align:left\">\\(\\mathrm{False}\\)</td>\n",
       "</tr>\n",
       "<tr class =\"row-b\">\n",
       "<td style=\"text-align:left\">\\(10\\)</td>\n",
       "<td style=\"text-align:left\">\\(\\mathrm{False}\\)</td>\n",
       "<td style=\"text-align:left\">\\(58025\\)</td>\n",
       "<td style=\"text-align:left\">\\(\\mathrm{False}\\)</td>\n",
       "</tr>\n",
       "<tr class =\"row-a\">\n",
       "<td style=\"text-align:left\">\\(11\\)</td>\n",
       "<td style=\"text-align:left\">\\(\\mathrm{True}\\)</td>\n",
       "<td style=\"text-align:left\">\\(175099\\)</td>\n",
       "<td style=\"text-align:left\">\\(\\mathrm{False}\\)</td>\n",
       "</tr>\n",
       "<tr class =\"row-b\">\n",
       "<td style=\"text-align:left\">\\(12\\)</td>\n",
       "<td style=\"text-align:left\">\\(\\mathrm{False}\\)</td>\n",
       "<td style=\"text-align:left\">\\(527345\\)</td>\n",
       "<td style=\"text-align:left\">\\(\\mathrm{False}\\)</td>\n",
       "</tr>\n",
       "<tr class =\"row-a\">\n",
       "<td style=\"text-align:left\">\\(13\\)</td>\n",
       "<td style=\"text-align:left\">\\(\\mathrm{True}\\)</td>\n",
       "<td style=\"text-align:left\">\\(1586131\\)</td>\n",
       "<td style=\"text-align:left\">\\(\\mathrm{False}\\)</td>\n",
       "</tr>\n",
       "<tr class =\"row-b\">\n",
       "<td style=\"text-align:left\">\\(14\\)</td>\n",
       "<td style=\"text-align:left\">\\(\\mathrm{False}\\)</td>\n",
       "<td style=\"text-align:left\">\\(4766585\\)</td>\n",
       "<td style=\"text-align:left\">\\(\\mathrm{False}\\)</td>\n",
       "</tr>\n",
       "<tr class =\"row-a\">\n",
       "<td style=\"text-align:left\">\\(15\\)</td>\n",
       "<td style=\"text-align:left\">\\(\\mathrm{False}\\)</td>\n",
       "<td style=\"text-align:left\">\\(14316139\\)</td>\n",
       "<td style=\"text-align:left\">\\(\\mathrm{False}\\)</td>\n",
       "</tr>\n",
       "<tr class =\"row-b\">\n",
       "<td style=\"text-align:left\">\\(16\\)</td>\n",
       "<td style=\"text-align:left\">\\(\\mathrm{False}\\)</td>\n",
       "<td style=\"text-align:left\">\\(42981185\\)</td>\n",
       "<td style=\"text-align:left\">\\(\\mathrm{False}\\)</td>\n",
       "</tr>\n",
       "<tr class =\"row-a\">\n",
       "<td style=\"text-align:left\">\\(17\\)</td>\n",
       "<td style=\"text-align:left\">\\(\\mathrm{True}\\)</td>\n",
       "<td style=\"text-align:left\">\\(129009091\\)</td>\n",
       "<td style=\"text-align:left\">\\(\\mathrm{True}\\)</td>\n",
       "</tr>\n",
       "<tr class =\"row-b\">\n",
       "<td style=\"text-align:left\">\\(18\\)</td>\n",
       "<td style=\"text-align:left\">\\(\\mathrm{False}\\)</td>\n",
       "<td style=\"text-align:left\">\\(387158345\\)</td>\n",
       "<td style=\"text-align:left\">\\(\\mathrm{False}\\)</td>\n",
       "</tr>\n",
       "<tr class =\"row-a\">\n",
       "<td style=\"text-align:left\">\\(19\\)</td>\n",
       "<td style=\"text-align:left\">\\(\\mathrm{True}\\)</td>\n",
       "<td style=\"text-align:left\">\\(1161737179\\)</td>\n",
       "<td style=\"text-align:left\">\\(\\mathrm{False}\\)</td>\n",
       "</tr>\n",
       "<tr class =\"row-b\">\n",
       "<td style=\"text-align:left\">\\(20\\)</td>\n",
       "<td style=\"text-align:left\">\\(\\mathrm{False}\\)</td>\n",
       "<td style=\"text-align:left\">\\(3485735825\\)</td>\n",
       "<td style=\"text-align:left\">\\(\\mathrm{False}\\)</td>\n",
       "</tr>\n",
       "</tbody>\n",
       "</table>\n",
       "</div>"
      ],
      "text/plain": [
       "+-----+---------------+-------------+-----------------------+\n",
       "| $n$ | Is $n$ prime? | $3^n - 2^n$ | Is $3^n - 2^n$ prime? |\n",
       "+=====+===============+=============+=======================+\n",
       "| 1   | True          | 1           | True                  |\n",
       "+-----+---------------+-------------+-----------------------+\n",
       "| 2   | True          | 5           | True                  |\n",
       "+-----+---------------+-------------+-----------------------+\n",
       "| 3   | True          | 19          | True                  |\n",
       "+-----+---------------+-------------+-----------------------+\n",
       "| 4   | False         | 65          | False                 |\n",
       "+-----+---------------+-------------+-----------------------+\n",
       "| 5   | True          | 211         | True                  |\n",
       "+-----+---------------+-------------+-----------------------+\n",
       "| 6   | False         | 665         | False                 |\n",
       "+-----+---------------+-------------+-----------------------+\n",
       "| 7   | True          | 2059        | False                 |\n",
       "+-----+---------------+-------------+-----------------------+\n",
       "| 8   | False         | 6305        | False                 |\n",
       "+-----+---------------+-------------+-----------------------+\n",
       "| 9   | False         | 19171       | False                 |\n",
       "+-----+---------------+-------------+-----------------------+\n",
       "| 10  | False         | 58025       | False                 |\n",
       "+-----+---------------+-------------+-----------------------+\n",
       "| 11  | True          | 175099      | False                 |\n",
       "+-----+---------------+-------------+-----------------------+\n",
       "| 12  | False         | 527345      | False                 |\n",
       "+-----+---------------+-------------+-----------------------+\n",
       "| 13  | True          | 1586131     | False                 |\n",
       "+-----+---------------+-------------+-----------------------+\n",
       "| 14  | False         | 4766585     | False                 |\n",
       "+-----+---------------+-------------+-----------------------+\n",
       "| 15  | False         | 14316139    | False                 |\n",
       "+-----+---------------+-------------+-----------------------+\n",
       "| 16  | False         | 42981185    | False                 |\n",
       "+-----+---------------+-------------+-----------------------+\n",
       "| 17  | True          | 129009091   | True                  |\n",
       "+-----+---------------+-------------+-----------------------+\n",
       "| 18  | False         | 387158345   | False                 |\n",
       "+-----+---------------+-------------+-----------------------+\n",
       "| 19  | True          | 1161737179  | False                 |\n",
       "+-----+---------------+-------------+-----------------------+\n",
       "| 20  | False         | 3485735825  | False                 |\n",
       "+-----+---------------+-------------+-----------------------+"
      ]
     },
     "metadata": {},
     "output_type": "display_data"
    },
    {
     "name": "stdout",
     "output_type": "stream",
     "text": [
      "My conjecture is:\n",
      "3^n - 2^n is prime only if n is prime.\n",
      "However, n being prime does not imply that 3^n - 2^n is prime.\n"
     ]
    }
   ],
   "source": [
    "# values of n\n",
    "start, end = 1, 20\n",
    "row1 = [n for n in range(start,end+1)]\n",
    "row2 = list(map(lambda n: factors(n).isPrime, row1))\n",
    "row3 = [3^n - 2^n for n in range(start,end+1)]\n",
    "row4 = list(map(lambda eq: factors(eq).isPrime, row3))\n",
    "\n",
    "# clean table so that each row becomes a column\n",
    "row_list = [row1,row2,row3,row4]\n",
    "column_list = columnify(row_list)\n",
    "\n",
    "# columns & rows\n",
    "column_headers = ['$n$', 'Is $n$ prime?', '$3^n - 2^n$', 'Is $3^n - 2^n$ prime?']\n",
    "\n",
    "\n",
    "T = table(column_list, header_row=column_headers, frame=True)\n",
    "display(T)\n",
    "print('My conjecture is:\\n\\\n",
    "3^n - 2^n is prime only if n is prime.\\n\\\n",
    "However, n being prime does not imply that 3^n - 2^n is prime.')"
   ]
  },
  {
   "cell_type": "markdown",
   "id": "c9b14378-d32e-490b-8256-fcf2ae920227",
   "metadata": {
    "tags": []
   },
   "source": [
    "2. Make conjectures about $n$ for $3^n-1$ and $3^n-2^n$."
   ]
  },
  {
   "cell_type": "code",
   "execution_count": null,
   "id": "6631a1c2-7148-43fa-b7da-1ebc1b420710",
   "metadata": {
    "tags": []
   },
   "outputs": [],
   "source": [
    "# set the parameters\n",
    "start, end = 1, 20\n",
    "\n",
    "# establish the rows\n",
    "row1 = [n for n in range(start,end+1)]\n",
    "row2 = list(map(lambda n: factors(n).isPrime, row1))\n",
    "row3 = [3^n - 1 for n in range(start,end+1)]\n",
    "row4 = list(map(lambda eq: factors(eq).isPrime, row3))\n",
    "\n",
    "# clean table so that each row becomes a column\n",
    "row_list = [row1,row2,row3,row4]\n",
    "column_list = columnify(row_list)\n",
    "\n",
    "# columns & rows\n",
    "column_headers = ['$n$', 'Is $n$ prime?', '$3^n - 1$', 'Is $3^n - 1$ prime?']\n",
    "\n",
    "T = table(column_list, header_row=column_headers, frame=True)\n",
    "display(T)\n",
    "print('My conjecture is:\\n\\\n",
    "if n is 1, 3^n-1 is prime.\\n\\\n",
    "for any other value of n, 3^n-1 is not prime.')"
   ]
  },
  {
   "cell_type": "markdown",
   "id": "d6e9da62-a637-4857-a283-d19e7da42a03",
   "metadata": {},
   "source": [
    "<h3 style=\"color:orange;\">Applying Euclid's Infinite Prime Theorem</h3>"
   ]
  },
  {
   "cell_type": "markdown",
   "id": "16fe3163-ced2-4b4f-8605-09ea503cf217",
   "metadata": {},
   "source": [
    "3. Using theorem 3, find a prime different from 2,3,5,7 and 2,5,11."
   ]
  },
  {
   "cell_type": "markdown",
   "id": "aa5de5a7-9b27-452b-95f8-7083dd48841d",
   "metadata": {
    "tags": []
   },
   "source": [
    "<img src=\"images/euclidInfinitePrime.png\" alt=\"Euclid Infinite Prime Theorem\" width=\"400\"/>"
   ]
  },
  {
   "cell_type": "code",
   "execution_count": null,
   "id": "dae21ee3-b786-47be-8a39-0e254fe5fff0",
   "metadata": {
    "tags": []
   },
   "outputs": [],
   "source": [
    "from functools import reduce\n",
    "primes1 = [2,3,5,7]\n",
    "primes2 = [2,5,11]\n",
    "\n",
    "def euclid_new_prime(primes):\n",
    "    m = reduce(lambda x, y: x*y, primes) + 1\n",
    "    if factors(m).isPrime:\n",
    "        return(f\"{m} is the solution.\")\n",
    "    else:\n",
    "        factor_pair = factors(m).minimal\n",
    "        if factor_pair[0] not in primes:\n",
    "            ans = factor_pair[0]\n",
    "        else:\n",
    "            ans = factor_pair[1]\n",
    "        return(f\"{ans} is the solution.\")\n",
    "    \n",
    "print(\"1. \" + euclid_new_prime(primes1))\n",
    "print(\"2. \" + euclid_new_prime(primes2))"
   ]
  },
  {
   "cell_type": "markdown",
   "id": "b3f106cc-6850-4454-b22a-9437727acac2",
   "metadata": {},
   "source": [
    "4. Find 5 consecutive non-prime integers. "
   ]
  },
  {
   "cell_type": "code",
   "execution_count": null,
   "id": "7e46a90f-e834-46ad-b172-d8ec8999f9e8",
   "metadata": {
    "tags": []
   },
   "outputs": [],
   "source": [
    "# If x = (n+1)! + 2, then all numbers in the sequence x,x+1,...x+(n-1) is not prime. \n",
    "# e.g. if n = 2, 3*2*1 + 2 can be factored into 2 * (3*1*1 + 1). So it will always be a multiple of 2. \n",
    "def temp_eq(n):\n",
    "    return factorial(n+1) + 2\n",
    "\n",
    "eq = temp_eq(5)\n",
    "\n",
    "for n in range(5):\n",
    "    print(eq + n)"
   ]
  },
  {
   "cell_type": "markdown",
   "id": "20cdbb51-fa95-4013-a0dd-83e20b9e88f6",
   "metadata": {},
   "source": [
    "5. Add two more perfect numbers to figure 1 using the mersenne primes method. "
   ]
  },
  {
   "cell_type": "markdown",
   "id": "ef0b9a08-067f-4c01-8983-8bc0b0b16e55",
   "metadata": {},
   "source": [
    "<img src=\"images/mercennesTable.png\" alt=\"Even $2^n-1$ Theorem\" width=\"400\"/>"
   ]
  },
  {
   "cell_type": "code",
   "execution_count": null,
   "id": "079c236d-5e44-40ab-85d6-84a4ef71363b",
   "metadata": {
    "tags": []
   },
   "outputs": [],
   "source": [
    "# values of n\n",
    "start, end = 11,20\n",
    "row1 = [n for n in range(start,end+1)]\n",
    "row2 = list(map(lambda n: factors(n).isPrime, row1))\n",
    "row3 = [2^n-1 for n in range(start,end+1)]\n",
    "row4 = list(map(lambda eq: factors(eq).isPrime, row3))\n",
    "\n",
    "# clean table so that each row becomes a column\n",
    "row_list = [row1,row2,row3,row4]\n",
    "column_list = columnify(row_list)\n",
    "\n",
    "# columns & rows\n",
    "column_headers = ['$n$', 'Is $n$ prime?', '$2^n-1$', 'Is $2^n-1$ prime?']\n",
    "\n",
    "T = table(column_list, header_row=column_headers, frame=True)\n",
    "display(T)"
   ]
  },
  {
   "cell_type": "code",
   "execution_count": null,
   "id": "aac4f16d-0dc2-4ffb-beb3-65adf88448d5",
   "metadata": {
    "tags": []
   },
   "outputs": [],
   "source": [
    "# multiplying a mercenes prime by 2^(n-1) results in a perfect number\n",
    "%run ../utility/utility.ipynb\n",
    "\n",
    "mercennes = [8191,131071]\n",
    "n_values = [13, 17]\n",
    "perfectnum1 = mercennes[0] * 2^(n_values[0] - 1)\n",
    "perfectnum2 = mercennes[1] * 2^(n_values[1] - 1)\n",
    "\n",
    "if (factors(perfectnum1).isPerfect):\n",
    "    print('test passed for perfect number ' + str(perfectnum1))\n",
    "if (factors(perfectnum2).isPerfect):\n",
    "    print('test passed for perfect number ' + str(perfectnum2))"
   ]
  },
  {
   "cell_type": "markdown",
   "id": "46f864dd-7adb-4524-8565-e9d74fbf7114",
   "metadata": {
    "tags": []
   },
   "source": [
    "6. Find triplet primes with differences of two that differs from the example 3, 5, 7."
   ]
  },
  {
   "cell_type": "code",
   "execution_count": null,
   "id": "35e56363-ac43-465c-9ee3-1690ba411505",
   "metadata": {
    "tags": []
   },
   "outputs": [],
   "source": [
    "print('The answer is 2,3,5')\n",
    "print('Other than this, it\\'s impossible to find such a sequence. \\n\\\n",
    "This is because one out of every three sequences after 3,5,7 contains one \\\n",
    "value that is a multiple of three. \\nFor example, 9,11,13,15,17,19,21. \\n\\\n",
    "Notice how first, fourth, and seventh number is divisble by three.\\n\\\n",
    "Source: Wikipedia\\'s page on \\'Prime Triplet\\'')"
   ]
  }
 ],
 "metadata": {
  "kernelspec": {
   "display_name": "SageMath 9.7",
   "language": "sage",
   "name": "sagemath"
  },
  "language_info": {
   "codemirror_mode": {
    "name": "ipython",
    "version": 3
   },
   "file_extension": ".py",
   "mimetype": "text/x-python",
   "name": "python",
   "nbconvert_exporter": "python",
   "pygments_lexer": "ipython3",
   "version": "3.10.9"
  }
 },
 "nbformat": 4,
 "nbformat_minor": 5
}
