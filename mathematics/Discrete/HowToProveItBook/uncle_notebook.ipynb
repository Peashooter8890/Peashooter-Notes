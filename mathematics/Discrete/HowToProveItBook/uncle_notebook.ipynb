{
 "cells": [
  {
   "cell_type": "code",
   "execution_count": 15,
   "id": "a50908e4-2f4e-46e8-8644-3d09c2156475",
   "metadata": {
    "tags": []
   },
   "outputs": [
    {
     "ename": "IndentationError",
     "evalue": "expected an indented block after 'for' statement on line 2 (1812626332.py, line 6)",
     "output_type": "error",
     "traceback": [
      "\u001b[0;36m  File \u001b[0;32m/var/folders/pm/4r8q06b16h17t4l5bymykl3c0000gp/T/ipykernel_31576/1812626332.py:6\u001b[0;36m\u001b[0m\n\u001b[0;31m    def isEven(num):\u001b[0m\n\u001b[0m                    ^\u001b[0m\n\u001b[0;31mIndentationError\u001b[0m\u001b[0;31m:\u001b[0m expected an indented block after 'for' statement on line 2\n"
     ]
    },
    {
     "ename": "IndentationError",
     "evalue": "expected an indented block after 'for' statement on line 2 (1812626332.py, line 6)",
     "output_type": "error",
     "traceback": [
      "Traceback \u001b[0;36m(most recent call last)\u001b[0m:\n",
      "\u001b[0m  File \u001b[1;32m~/packages/mambgaforge/envs/sage/lib/python3.10/site-packages/IPython/core/interactiveshell.py:3460\u001b[0m in \u001b[1;35mrun_code\u001b[0m\n    exec(code_obj, self.user_global_ns, self.user_ns)\u001b[0m\n",
      "\u001b[0m  Cell \u001b[1;32mIn[15], line 2\u001b[0m\n    get_ipython().run_line_magic('run', './uncle_functions.ipynb')\u001b[0m\n",
      "\u001b[0m  File \u001b[1;32m~/packages/mambgaforge/envs/sage/lib/python3.10/site-packages/IPython/core/interactiveshell.py:2369\u001b[0m in \u001b[1;35mrun_line_magic\u001b[0m\n    result = fn(*args, **kwargs)\u001b[0m\n",
      "\u001b[0m  File \u001b[1;32m~/packages/mambgaforge/envs/sage/lib/python3.10/site-packages/IPython/core/magics/execution.py:718\u001b[0m in \u001b[1;35mrun\u001b[0m\n    self.shell.safe_execfile_ipy(filename, raise_exceptions=True)\u001b[0m\n",
      "\u001b[0m  File \u001b[1;32m~/packages/mambgaforge/envs/sage/lib/python3.10/site-packages/IPython/core/interactiveshell.py:2891\u001b[0m in \u001b[1;35msafe_execfile_ipy\u001b[0m\n    result.raise_error()\u001b[0m\n",
      "\u001b[0m  File \u001b[1;32m~/packages/mambgaforge/envs/sage/lib/python3.10/site-packages/IPython/core/interactiveshell.py:264\u001b[0m in \u001b[1;35mraise_error\u001b[0m\n    raise self.error_before_exec\u001b[0m\n",
      "\u001b[0m  File \u001b[1;32m~/packages/mambgaforge/envs/sage/lib/python3.10/site-packages/IPython/core/interactiveshell.py:3193\u001b[0m in \u001b[1;35mrun_cell_async\u001b[0m\n    code_ast = compiler.ast_parse(cell, filename=cell_name)\u001b[0m\n",
      "\u001b[0;36m  File \u001b[0;32m~/packages/mambgaforge/envs/sage/lib/python3.10/site-packages/IPython/core/compilerop.py:86\u001b[0;36m in \u001b[0;35mast_parse\u001b[0;36m\n\u001b[0;31m    return compile(source, filename, symbol, self.flags | PyCF_ONLY_AST, 1)\u001b[0;36m\n",
      "\u001b[0;36m  File \u001b[0;32m/var/folders/pm/4r8q06b16h17t4l5bymykl3c0000gp/T/ipykernel_31576/1812626332.py:6\u001b[0;36m\u001b[0m\n\u001b[0;31m    def isEven(num):\u001b[0m\n\u001b[0m                    ^\u001b[0m\n\u001b[0;31mIndentationError\u001b[0m\u001b[0;31m:\u001b[0m expected an indented block after 'for' statement on line 2\n"
     ]
    }
   ],
   "source": [
    "%run ./uncle_functions.ipynb"
   ]
  },
  {
   "cell_type": "code",
   "execution_count": 10,
   "id": "996c5155-d9aa-4ec6-b969-e28eb58bbfe2",
   "metadata": {
    "tags": []
   },
   "outputs": [
    {
     "ename": "NameError",
     "evalue": "name 'Math' is not defined",
     "output_type": "error",
     "traceback": [
      "\u001b[0;31m---------------------------------------------------------------------------\u001b[0m",
      "\u001b[0;31mNameError\u001b[0m                                 Traceback (most recent call last)",
      "Cell \u001b[0;32mIn[10], line 1\u001b[0m\n\u001b[0;32m----> 1\u001b[0m \u001b[43mMath\u001b[49m(latex(factor(Integer(\u001b[38;5;241m20\u001b[39m))))\n",
      "\u001b[0;31mNameError\u001b[0m: name 'Math' is not defined"
     ]
    }
   ],
   "source": [
    "Math(latex(factor(20)))"
   ]
  },
  {
   "cell_type": "code",
   "execution_count": 6,
   "id": "842b0368-13bd-4c97-8b2a-3ece66e90a7f",
   "metadata": {
    "tags": []
   },
   "outputs": [
    {
     "data": {
      "text/plain": [
       "True"
      ]
     },
     "execution_count": 6,
     "metadata": {},
     "output_type": "execute_result"
    }
   ],
   "source": [
    "isEven(2)"
   ]
  }
 ],
 "metadata": {
  "kernelspec": {
   "display_name": "SageMath 9.7",
   "language": "sage",
   "name": "sagemath"
  },
  "language_info": {
   "codemirror_mode": {
    "name": "ipython",
    "version": 3
   },
   "file_extension": ".py",
   "mimetype": "text/x-python",
   "name": "python",
   "nbconvert_exporter": "python",
   "pygments_lexer": "ipython3",
   "version": "3.10.9"
  }
 },
 "nbformat": 4,
 "nbformat_minor": 5
}
