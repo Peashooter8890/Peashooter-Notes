{
 "cells": [
  {
   "cell_type": "markdown",
   "id": "60a9fa15-6dad-4fe7-9b0e-8e60aaf5dfbc",
   "metadata": {},
   "source": [
    "<h1>How to Prove It - Exercises</h1>"
   ]
  },
  {
   "cell_type": "code",
   "execution_count": 39,
   "id": "6f04c6f8-78d0-4f0d-92c0-d8c2f544df89",
   "metadata": {
    "tags": []
   },
   "outputs": [
    {
     "name": "stdout",
     "output_type": "stream",
     "text": [
      "1057 31\n"
     ]
    }
   ],
   "source": [
    "%run calculations.ipynb"
   ]
  },
  {
   "cell_type": "code",
   "execution_count": 33,
   "id": "4456251b-257b-4f19-8194-fdc069e46095",
   "metadata": {
    "tags": []
   },
   "outputs": [
    {
     "ename": "AttributeError",
     "evalue": "module 'test' has no attribute 'fuck'",
     "output_type": "error",
     "traceback": [
      "\u001b[0;31m---------------------------------------------------------------------------\u001b[0m",
      "\u001b[0;31mAttributeError\u001b[0m                            Traceback (most recent call last)",
      "Cell \u001b[0;32mIn[33], line 1\u001b[0m\n\u001b[0;32m----> 1\u001b[0m \u001b[43mtest\u001b[49m\u001b[38;5;241;43m.\u001b[39;49m\u001b[43mfuck\u001b[49m()\n",
      "\u001b[0;31mAttributeError\u001b[0m: module 'test' has no attribute 'fuck'"
     ]
    }
   ],
   "source": [
    "test.fuck()"
   ]
  }
 ],
 "metadata": {
  "kernelspec": {
   "display_name": "SageMath 9.7",
   "language": "sage",
   "name": "sagemath"
  },
  "language_info": {
   "codemirror_mode": {
    "name": "ipython",
    "version": 3
   },
   "file_extension": ".py",
   "mimetype": "text/x-python",
   "name": "python",
   "nbconvert_exporter": "python",
   "pygments_lexer": "ipython3",
   "version": "3.10.9"
  }
 },
 "nbformat": 4,
 "nbformat_minor": 5
}
