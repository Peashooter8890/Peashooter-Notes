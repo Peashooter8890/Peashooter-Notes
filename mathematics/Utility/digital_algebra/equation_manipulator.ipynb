{
 "cells": [
  {
   "cell_type": "markdown",
   "id": "4f3e000e-f2a1-48ab-ab5e-144cd6d3b09f",
   "metadata": {
    "tags": []
   },
   "source": [
    "<h2 style = \"color:green;\">Equation Manipulator</h2>"
   ]
  },
  {
   "cell_type": "markdown",
   "id": "5d06371e-2fc4-4497-8765-fffb4b414e68",
   "metadata": {},
   "source": [
    "Manipulate equations into structures for an effective use of the digital algebra system"
   ]
  },
  {
   "cell_type": "code",
   "execution_count": 13,
   "id": "6484c596-5884-43f2-a6b5-fe1d1cb46dc1",
   "metadata": {
    "tags": []
   },
   "outputs": [
    {
     "name": "stdout",
     "output_type": "stream",
     "text": [
      "General Python file succesfully activated!\n"
     ]
    }
   ],
   "source": [
    "%run /Users/Studying/notes/mathematics/Utility/general_python/general_python.ipynb"
   ]
  },
  {
   "cell_type": "markdown",
   "id": "7f7aa68c-644e-4d9d-9684-5b57145559f0",
   "metadata": {},
   "source": [
    "<h3 style = \"color:orange;\">Equation Formatter</h3>"
   ]
  },
  {
   "cell_type": "markdown",
   "id": "0975c77f-d855-4426-a020-56ce59ea6506",
   "metadata": {},
   "source": [
    "- Removes all whitespaces from equation\n",
    "- Formats all nx in equation to n\\*x^1\n",
    "- Formats all x or x^n in equation to 1\\*x and 1\\*x^n respectively\n",
    "- Formats all constants in equation to C\\*x\\^0"
   ]
  },
  {
   "cell_type": "code",
   "execution_count": 4,
   "id": "2fdcb7ee-bb87-4219-9887-fb28cf9feec0",
   "metadata": {},
   "outputs": [],
   "source": [
    "def equationFormatter(eq):\n",
    "    # extract variables\n",
    "    variables = []\n",
    "    for char in eq:\n",
    "        if char.isalpha():\n",
    "            variables.append(char)\n",
    "            \n",
    "    # remove whitespace\n",
    "    eq = eq.replace(' ', '')\n",
    "    \n",
    "    # if input is exprssion, turn it into equation\n",
    "    if '=' not in eq:\n",
    "        eq = eq + \"=0\"\n",
    "    \n",
    "    # turn regular x into x^1 for algorithm to recognize\n",
    "    for var in variables:\n",
    "        eq = eq.replace((var+'+'), (var+'^1+'))\n",
    "        eq = eq.replace((var+'-'), (var+'^1-'))\n",
    "        eq = eq.replace((var+'='), (var+'^1='))\n",
    "    \n",
    "    for var in variables:\n",
    "        eq = eq.replace(('+'+var), ('+1*'+var))\n",
    "        eq = eq.replace(('-'+var), ('-1*'+var))\n",
    "        eq = eq.replace(('='+var), ('=1*'+var))\n",
    "        \n",
    "    return eq"
   ]
  },
  {
   "cell_type": "markdown",
   "id": "09ff9409-a00b-4d97-858f-d12c2fd72217",
   "metadata": {
    "tags": []
   },
   "source": [
    "<h3 style = \"color:orange;\">Term Grouper</h3>"
   ]
  },
  {
   "cell_type": "markdown",
   "id": "1f9483a3-1e7e-4257-969e-7158493d2690",
   "metadata": {},
   "source": [
    "Returns a list of two lists - a list for all terms in the left side of an equation, <br>\n",
    "and another for all terms in the right side of the equation."
   ]
  },
  {
   "cell_type": "code",
   "execution_count": 23,
   "id": "6c2953e2-6581-40c1-8886-d12730799a5b",
   "metadata": {
    "tags": []
   },
   "outputs": [
    {
     "data": {
      "text/plain": [
       "[['5*x^4', '1*x^3', '1*x^2', '1*x^2', '1*x^1', '1'], ['0']]"
      ]
     },
     "execution_count": 23,
     "metadata": {},
     "output_type": "execute_result"
    }
   ],
   "source": [
    "def termGrouper(eq):\n",
    "    operators = ['+','-','=']\n",
    "    leftTerms, rightTerms = [], []\n",
    "    keys = []\n",
    "\n",
    "    # get operator indices and store in keys\n",
    "    for operator in operators:\n",
    "        temp = find(operator,eq)\n",
    "        for num in temp:\n",
    "            keys.append(num)      \n",
    "    keys.sort()\n",
    "    keysCopy = deepcopy(keys)\n",
    "\n",
    "    # collect all right terms\n",
    "    temp = 0\n",
    "    for index in keys:\n",
    "        if '=' in eq[temp:index]:\n",
    "            break\n",
    "        if eq[temp:index][0] in operators:\n",
    "            leftTerms.append(eq[temp:index][1:])\n",
    "        else:\n",
    "            leftTerms.append(eq[temp:index])\n",
    "        temp = index\n",
    "        keysCopy.remove(index)\n",
    "\n",
    "    # collect n - 1 left terms\n",
    "    for index in keysCopy:\n",
    "        if eq[temp:index][0] in operators:\n",
    "            rightTerms.append(eq[temp:index][1:])\n",
    "        else:\n",
    "            rightTerms.append(eq[temp:index])\n",
    "        temp = index\n",
    "\n",
    "    # collect nth left term\n",
    "    if eq[temp:][0] in operators:\n",
    "            rightTerms.append(eq[temp:][1:])\n",
    "    else:\n",
    "        rightTerms.append(eq[temp:])\n",
    "        \n",
    "    return [leftTerms,rightTerms]\n",
    "\n",
    "\n",
    "eq = '5*x^4 + x^3 + x^2 + x^2 + x + 1'\n",
    "eq = equationFormatter(eq)\n",
    "termGrouper(eq)"
   ]
  },
  {
   "cell_type": "markdown",
   "id": "ff202e49-5650-4dad-8f58-13b4a5a6f7d7",
   "metadata": {
    "tags": []
   },
   "source": [
    "<h3 style = \"color:orange;\">Equation Structure</h3>"
   ]
  },
  {
   "cell_type": "markdown",
   "id": "1a84436e-5f94-45a4-aada-34e7b142bf85",
   "metadata": {
    "tags": []
   },
   "source": [
    "Converts grouped terms into an easily modifiable structure with built-in functions: \n",
    "- calculate derivative\n",
    "- calculate trig functions\n",
    "- eliminate right side\n",
    "- distribute equation"
   ]
  },
  {
   "cell_type": "code",
   "execution_count": 2,
   "id": "6456f6ff-a988-4946-a1c5-be5915aa3e64",
   "metadata": {},
   "outputs": [],
   "source": [
    "class equationStruct:\n",
    "    def __init__(self,terms):\n",
    "        self.struct = struct(terms)\n",
    "        self.latex = self.latexConverter()\n",
    "        \n",
    "    def struct(self,terms):\n",
    "        leftTerms, rightTerms = terms[0], terms[1]"
   ]
  },
  {
   "cell_type": "code",
   "execution_count": 5,
   "id": "856bf9c8-51a0-42af-bc96-5f26ba82d3a9",
   "metadata": {},
   "outputs": [
    {
     "name": "stdout",
     "output_type": "stream",
     "text": [
      "Digital Algebra file succesfully activated!\n"
     ]
    }
   ],
   "source": [
    "print('Digital Algebra file succesfully activated!')"
   ]
  }
 ],
 "metadata": {
  "kernelspec": {
   "display_name": "SageMath 9.7",
   "language": "sage",
   "name": "sagemath"
  },
  "language_info": {
   "codemirror_mode": {
    "name": "ipython",
    "version": 3
   },
   "file_extension": ".py",
   "mimetype": "text/x-python",
   "name": "python",
   "nbconvert_exporter": "python",
   "pygments_lexer": "ipython3",
   "version": "3.10.9"
  }
 },
 "nbformat": 4,
 "nbformat_minor": 5
}
