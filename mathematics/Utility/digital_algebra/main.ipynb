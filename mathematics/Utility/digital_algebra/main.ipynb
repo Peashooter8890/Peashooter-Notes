{
 "cells": [
  {
   "cell_type": "markdown",
   "id": "4b237850-8e48-4bb5-92f8-905480557f98",
   "metadata": {},
   "source": [
    "<h2 style = \"color:green;\">Digital Algebra System</h2>"
   ]
  },
  {
   "cell_type": "code",
   "execution_count": 1,
   "id": "69f22ae0-0757-49ac-8ea4-2e194b942448",
   "metadata": {
    "tags": []
   },
   "outputs": [],
   "source": [
    "%run /Users/Studying/notes/mathematics/Utility/digital_algebra/equation_manipulator.ipynb"
   ]
  },
  {
   "cell_type": "code",
   "execution_count": 3,
   "id": "66ef8882-73ed-4a4b-b5dc-262adcd0ea6c",
   "metadata": {},
   "outputs": [],
   "source": [
    "def digitalAlgebra(eq):\n",
    "    # cleans and formats equation\n",
    "    eq = equationFormatter(eq)\n",
    "    terms = termGrouper(eq)\n",
    "    \n",
    "    \n",
    "    return eq"
   ]
  }
 ],
 "metadata": {
  "kernelspec": {
   "display_name": "SageMath 9.7",
   "language": "sage",
   "name": "sagemath"
  },
  "language_info": {
   "codemirror_mode": {
    "name": "ipython",
    "version": 3
   },
   "file_extension": ".py",
   "mimetype": "text/x-python",
   "name": "python",
   "nbconvert_exporter": "python",
   "pygments_lexer": "ipython3",
   "version": "3.10.9"
  }
 },
 "nbformat": 4,
 "nbformat_minor": 5
}
