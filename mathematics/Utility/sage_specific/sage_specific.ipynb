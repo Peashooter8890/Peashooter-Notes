{
 "cells": [
  {
   "cell_type": "markdown",
   "id": "42301c3c-351c-4214-b071-1884cb71bde4",
   "metadata": {},
   "source": [
    "<h2 style = \"color:green;\">Sage-Specific</h2>"
   ]
  },
  {
   "cell_type": "markdown",
   "id": "bddd6171-f2d3-4f57-9dca-58c04ecf1260",
   "metadata": {},
   "source": [
    "Functions made specifically for sage functions."
   ]
  },
  {
   "cell_type": "markdown",
   "id": "95fda3cd-b2e5-4d5c-beca-598b3f485c44",
   "metadata": {
    "tags": []
   },
   "source": [
    "<h3 style = \"color:orange;\">Columnify Rows</h3>"
   ]
  },
  {
   "cell_type": "markdown",
   "id": "fc2cc9be-c969-49ef-8cf2-a1de0e5be660",
   "metadata": {},
   "source": [
    "Makes a list of rows into a list of columns for sage's table function"
   ]
  },
  {
   "cell_type": "code",
   "execution_count": 1,
   "id": "e49d5d9b-0ecd-4718-88f6-3448231fa411",
   "metadata": {
    "tags": []
   },
   "outputs": [],
   "source": [
    "def columnify(row_list):\n",
    "    column_list = []\n",
    "    # make rows based on number of items in a column\n",
    "    [column_list.append([]) for val in row_list[0]]\n",
    "    \n",
    "    # distribute a single row into ith element of ALL columns\n",
    "    for i in range(len(row_list)):\n",
    "        for row in column_list:\n",
    "            row.append(row_list[i][column_list.index(row)])\n",
    "    \n",
    "    return column_list"
   ]
  },
  {
   "cell_type": "code",
   "execution_count": 2,
   "id": "4380cc64-706c-4bb8-8a31-a70ef8b97ced",
   "metadata": {
    "tags": []
   },
   "outputs": [
    {
     "name": "stdout",
     "output_type": "stream",
     "text": [
      "Sage Specific file successfully activated!\n"
     ]
    }
   ],
   "source": [
    "print('Sage Specific file successfully activated!')"
   ]
  }
 ],
 "metadata": {
  "kernelspec": {
   "display_name": "SageMath 9.7",
   "language": "sage",
   "name": "sagemath"
  },
  "language_info": {
   "codemirror_mode": {
    "name": "ipython",
    "version": 3
   },
   "file_extension": ".py",
   "mimetype": "text/x-python",
   "name": "python",
   "nbconvert_exporter": "python",
   "pygments_lexer": "ipython3",
   "version": "3.10.9"
  }
 },
 "nbformat": 4,
 "nbformat_minor": 5
}
