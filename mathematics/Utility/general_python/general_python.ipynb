{
 "cells": [
  {
   "cell_type": "markdown",
   "id": "6cf401ee-b4a4-4c5b-a15d-cfea8825ac3b",
   "metadata": {},
   "source": [
    "<h2 style = \"color:green;\">General Python</h2>"
   ]
  },
  {
   "cell_type": "markdown",
   "id": "6d0d782d-83b1-47b4-b00d-f1732983451b",
   "metadata": {},
   "source": [
    "Helpful general functions mainly for vanilla python stuff."
   ]
  },
  {
   "cell_type": "markdown",
   "id": "40f91d0a-cf01-4902-a608-5a24b45c949b",
   "metadata": {},
   "source": [
    "<h3 style = \"color:orange;\">String Character Finder</h3>"
   ]
  },
  {
   "cell_type": "markdown",
   "id": "75193ba0-c4dd-4b1e-9df5-65d3df22dcde",
   "metadata": {},
   "source": [
    "Returns a list of ALL instances of a character in a string."
   ]
  },
  {
   "cell_type": "code",
   "execution_count": 2,
   "id": "faf0a944-9263-4963-bbbb-21403a539c4b",
   "metadata": {
    "tags": []
   },
   "outputs": [],
   "source": [
    "def find(char, string):\n",
    "    return [i for i, letter in enumerate(string) if letter == char]"
   ]
  },
  {
   "cell_type": "code",
   "execution_count": 7,
   "id": "6d925e38-ea0f-4474-bddf-4a8aee0c6db8",
   "metadata": {
    "tags": []
   },
   "outputs": [
    {
     "data": {
      "text/plain": [
       "'+'"
      ]
     },
     "execution_count": 7,
     "metadata": {},
     "output_type": "execute_result"
    }
   ],
   "source": [
    "find('+', '5+5-5*5+5') + find('-', '5+5-5*5+5') + find('*', '5+5-5*5+5')"
   ]
  },
  {
   "cell_type": "markdown",
   "id": "00800cac-2505-400a-98bd-480b9ffc472a",
   "metadata": {},
   "source": [
    "<h3 style = \"color:orange;\">String Subtracter</h3>"
   ]
  },
  {
   "cell_type": "markdown",
   "id": "b6e3781f-8260-4485-9e47-0ff102f38c94",
   "metadata": {},
   "source": [
    "Subtracts string2 from string1."
   ]
  },
  {
   "cell_type": "code",
   "execution_count": null,
   "id": "9958ff5c-a168-4c84-b4f0-2f4c537d5549",
   "metadata": {
    "tags": []
   },
   "outputs": [],
   "source": [
    "def stringSubtract(string1,string2):\n",
    "    if string2 in string1:\n",
    "        string1 = string1.replace(string2,'')\n",
    "    return string1"
   ]
  },
  {
   "cell_type": "code",
   "execution_count": null,
   "id": "ceb0608b-7c7a-4e84-977f-17db9c611982",
   "metadata": {
    "tags": []
   },
   "outputs": [],
   "source": [
    "print('General Python file succesfully activated!')"
   ]
  }
 ],
 "metadata": {
  "kernelspec": {
   "display_name": "SageMath 9.7",
   "language": "sage",
   "name": "sagemath"
  },
  "language_info": {
   "codemirror_mode": {
    "name": "ipython",
    "version": 3
   },
   "file_extension": ".py",
   "mimetype": "text/x-python",
   "name": "python",
   "nbconvert_exporter": "python",
   "pygments_lexer": "ipython3",
   "version": "3.10.9"
  }
 },
 "nbformat": 4,
 "nbformat_minor": 5
}
