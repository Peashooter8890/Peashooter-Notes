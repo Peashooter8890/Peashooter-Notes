{
 "cells": [
  {
   "cell_type": "markdown",
   "metadata": {
    "tags": []
   },
   "source": [
    "<h1 style = \"color:red;\">Useful Classes & Functions for Mathematics</h1>"
   ]
  },
  {
   "cell_type": "code",
   "execution_count": 118,
   "metadata": {
    "tags": []
   },
   "outputs": [],
   "source": [
    "from IPython.display import Math, display\n",
    "from collections import OrderedDict\n",
    "from copy import deepcopy\n",
    "import random"
   ]
  },
  {
   "cell_type": "markdown",
   "metadata": {
    "tags": []
   },
   "source": [
    "<h2 style = \"color:green;\">General Python</h2>"
   ]
  },
  {
   "cell_type": "markdown",
   "metadata": {
    "tags": []
   },
   "source": [
    "<h3 style = \"color:orange;\">String Character Finder</h3>"
   ]
  },
  {
   "cell_type": "code",
   "execution_count": 119,
   "metadata": {
    "tags": []
   },
   "outputs": [],
   "source": [
    "# returns a list of indexes for all instances of a character in a string\n",
    "def find(string, char):\n",
    "    return [i for i, letter in enumerate(string) if letter == char]"
   ]
  },
  {
   "cell_type": "markdown",
   "metadata": {
    "tags": []
   },
   "source": [
    "<h2 style = \"color:green;\">Sage-Specific</h2>"
   ]
  },
  {
   "cell_type": "markdown",
   "metadata": {},
   "source": [
    "<h3 style = \"color:orange;\">Columnify Rows</h3>"
   ]
  },
  {
   "cell_type": "code",
   "execution_count": 120,
   "metadata": {
    "tags": []
   },
   "outputs": [],
   "source": [
    "# makes a list of rows into a list of columns\n",
    "# there should be an equal amount of rows, but each row contains values from all columns\n",
    "# that way it looks like a column\n",
    "def columnify(row_list):\n",
    "    column_list = []\n",
    "    # make rows based on number of items in a column\n",
    "    [column_list.append([]) for val in row_list[0]]\n",
    "    \n",
    "    # distribute a single row into ith element of ALL columns\n",
    "    for i in range(len(row_list)):\n",
    "        for row in column_list:\n",
    "            row.append(row_list[i][column_list.index(row)])\n",
    "    \n",
    "    return column_list"
   ]
  },
  {
   "cell_type": "markdown",
   "metadata": {
    "tags": []
   },
   "source": [
    "<h2 style = \"color:green;\">Elementary Algebra</h2>"
   ]
  },
  {
   "cell_type": "markdown",
   "metadata": {
    "tags": []
   },
   "source": [
    "<h3 style = \"color:orange;\">Digital Algebra System</h3>"
   ]
  },
  {
   "cell_type": "code",
   "execution_count": 145,
   "metadata": {},
   "outputs": [],
   "source": [
    "def digitalAlgebra(eq):\n",
    "    # cleans and formats equation\n",
    "    eq = equationFormatter(eq)\n",
    "    return eq\n",
    "\n",
    "def getDegree(term):\n",
    "    return None\n",
    "\n",
    "def equationFormatter(eq):\n",
    "    # extract variables\n",
    "    variables = []\n",
    "    for char in eq:\n",
    "        if char.isalpha():\n",
    "            variables.append(char)\n",
    "            \n",
    "    # remove whitespace\n",
    "    eq = eq.replace(' ', '')\n",
    "    \n",
    "    # if input is exprssion, turn it into equation\n",
    "    if '=' not in eq:\n",
    "        eq = eq + \"=0\"\n",
    "    \n",
    "    # turn regular x into x^1 for algorithm to recognize\n",
    "    for var in variables:\n",
    "        eq = eq.replace((var+'+'), (var+'^1+'))\n",
    "        eq = eq.replace((var+'-'), (var+'^1-'))\n",
    "        eq = eq.replace((var+'='), (var+'^1='))\n",
    "        \n",
    "    return eq"
   ]
  },
  {
   "cell_type": "code",
   "execution_count": 144,
   "metadata": {
    "tags": []
   },
   "outputs": [
    {
     "data": {
      "text/plain": [
       "'x^2+y^1+z^1=0'"
      ]
     },
     "execution_count": 144,
     "metadata": {},
     "output_type": "execute_result"
    }
   ],
   "source": [
    "eq = 'x^2+y+z'\n",
    "digitalAlgebra(eq)"
   ]
  },
  {
   "cell_type": "code",
   "execution_count": null,
   "metadata": {},
   "outputs": [],
   "source": [
    "people = {\n",
    "    rightTerm1: {'symbol': 'x', 'multiple': '1', 'degree': '2'},\n",
    "    rightTerm2: {'symbol': 'x', 'multiple': '4', 'degree': '1'},\n",
    "    rightTerm3: {'symbol': '1', 'multiple': '4', 'degree': '1'},\n",
    "}\n",
    "\n",
    "'1*x^1"
   ]
  },
  {
   "cell_type": "markdown",
   "metadata": {},
   "source": [
    "<h2 style = \"color:green;\">Number Theory</h2>"
   ]
  },
  {
   "cell_type": "markdown",
   "metadata": {},
   "source": [
    "<h3 style = \"color:orange;\">Factor Class</h3>"
   ]
  },
  {
   "cell_type": "code",
   "execution_count": 122,
   "metadata": {
    "tags": []
   },
   "outputs": [],
   "source": [
    "# generates list of factors from two numbers, has methods to choose a random one\n",
    "class factors:\n",
    "    def __init__(self,x):\n",
    "        self.x = x\n",
    "        self.list = self.factors_list(x)[0]\n",
    "        self.itselfKey = self.factors_list(x)[1]\n",
    "        self.minimal = self.factors_minimal()[0]\n",
    "        self.minimalKey = self.factors_minimal()[1]\n",
    "        self.random = self.factors_random()\n",
    "        self.isPrime = self.is_prime()\n",
    "        self.isPerfect = self.is_perfect()\n",
    "        \n",
    "    # returns a list of two values: \n",
    "    # first value: list of tuples of factors\n",
    "    # second value: index value of the factor pair (1,x)\n",
    "    def factors_list(self,x):\n",
    "        result = []\n",
    "        index = 0\n",
    "        i = 1\n",
    "        # From 1 to square root number (anything above that will be duplicate):\n",
    "        while i**2 <= x:\n",
    "            if x % i == 0:\n",
    "                result.append(i)\n",
    "                result.append(x//i)\n",
    "            i += 1\n",
    "        # convert list of results into list of tuple pairs\n",
    "        list_result = [list(pair) for pair in zip(*[iter(result)]*2)]\n",
    "        for pair in list_result:\n",
    "            if pair.count(x) > 0:\n",
    "                index = list_result.index(pair)\n",
    "        return [list(list_result), index]\n",
    "    \n",
    "    # returns a list of two values: \n",
    "    # first value: the pair with minimum difference from each other\n",
    "    # second value: index value of the mentioned pair\n",
    "    def factors_minimal(self):\n",
    "        factors = deepcopy(self.list)\n",
    "        minimal_pair = factors[0]\n",
    "        pairs = iter(factors)\n",
    "        index = 0\n",
    "        next(pairs)\n",
    "        for pair in pairs:\n",
    "            if abs(pair[0] - pair[1]) < abs(minimal_pair[0] - minimal_pair[1]):\n",
    "                index = factors.index(pair)\n",
    "                minimal_pair = pair\n",
    "        return [minimal_pair,index]\n",
    "    \n",
    "    # returns a random pair of factors\n",
    "    def factors_random(self):\n",
    "        factors = self.list\n",
    "        return(random.choice(factors))\n",
    "    \n",
    "    # checks if number is prime\n",
    "    def is_prime(self):\n",
    "        return(len(self.list) == 1)\n",
    "    \n",
    "    # checks if number is perfect\n",
    "    def is_perfect(self):\n",
    "        # this is a list of lists, so use deepcopy() instead of copy()\n",
    "        testingList = deepcopy((self.list))\n",
    "        if (abs(self.minimal[1] - self.minimal[0]) == 0):\n",
    "            testingList[self.minimalKey].remove(self.minimal[0])\n",
    "        testingList[self.itselfKey].remove(self.x)\n",
    "        result = sum([sum(pair) for pair in testingList])\n",
    "        return (self.x == result)"
   ]
  },
  {
   "cell_type": "markdown",
   "metadata": {
    "tags": []
   },
   "source": [
    "<h3 style = \"color:orange;\">Factorial Function</h3>"
   ]
  },
  {
   "cell_type": "code",
   "execution_count": 123,
   "metadata": {
    "tags": []
   },
   "outputs": [],
   "source": [
    "def factorial(n):\n",
    "    ans = 1\n",
    "    for i in range(1,n+1):\n",
    "        ans *= i\n",
    "    return ans"
   ]
  },
  {
   "cell_type": "markdown",
   "metadata": {},
   "source": [
    "<h2 style = \"color:green;\">Formal Logic</h2>"
   ]
  },
  {
   "cell_type": "markdown",
   "metadata": {},
   "source": [
    "<h3 style = \"color:orange;\">Logic Construct Class</h3>"
   ]
  },
  {
   "cell_type": "code",
   "execution_count": 124,
   "metadata": {
    "tags": []
   },
   "outputs": [],
   "source": [
    "class logicModel:\n",
    "    def __init__(self,logic):\n",
    "        self.machineLogic = logic\n",
    "        self.latexLogic = self.latexLogicFunc(logic)\n",
    "        self.evaluateList = self.evaluateListFunc(logic)\n",
    "        self.truthTable = self.truthTableFunc(logic)\n",
    "    \n",
    "    # determines latex form of all logic statements\n",
    "    # all logic inputs to class object are assumed to be python-executable\n",
    "    def latexLogicFunc(self,logic):\n",
    "        latexList = []\n",
    "        logicCopy = deepcopy(logic)\n",
    "        replacements = OrderedDict([('and', '\\\\land'), ('or', '\\\\lor'), ('not', '\\\\neg')])\n",
    "        for statement in logicCopy:\n",
    "            for i,j in replacements.items():\n",
    "                statement = statement.replace(i, j)\n",
    "            statement = '$' + statement + '$'\n",
    "            latexList.append(statement)\n",
    "        return latexList\n",
    "        \n",
    "    # for each logic statement, returns a list of four values for their truth table values\n",
    "    def evaluateListFunc(self,logic):\n",
    "        truthpairs = [[False,False], [False,True], [True,False], [True,True]]\n",
    "        multiList = []\n",
    "        for statement in logic:\n",
    "            singleList = []\n",
    "            for pair in truthpairs:\n",
    "                P, Q = pair[0], pair[1]\n",
    "                boolValue = eval(statement)\n",
    "                singleList.append(boolValue)\n",
    "            multiList.append(singleList)\n",
    "        return multiList\n",
    "    \n",
    "    # returns a table object (truth table) of P, Q, and the logic statement\n",
    "    def truthTableFunc(self,logic):\n",
    "        # set up the table contents\n",
    "        row_P, row_Q = [False,False,True,True], [False,True,False,True]\n",
    "        column_list = [row_P,row_Q]\n",
    "        for evaluated in self.evaluateList:\n",
    "            column_list.append(evaluated)\n",
    "        column_list = columnify(column_list)\n",
    "        \n",
    "        # set up the headers\n",
    "        column_headers = ['$P$','$Q$']\n",
    "        for expression in self.latexLogic:\n",
    "            column_headers.append(expression)\n",
    "\n",
    "        truthTable = table(column_list, header_row=column_headers, frame=True)\n",
    "        return truthTable"
   ]
  }
 ],
 "metadata": {
  "kernelspec": {
   "display_name": "SageMath 9.7",
   "language": "sage",
   "name": "sagemath"
  },
  "language_info": {
   "codemirror_mode": {
    "name": "ipython",
    "version": 3
   },
   "file_extension": ".py",
   "mimetype": "text/x-python",
   "name": "python",
   "nbconvert_exporter": "python",
   "pygments_lexer": "ipython3",
   "version": "3.10.9"
  }
 },
 "nbformat": 4,
 "nbformat_minor": 4
}
