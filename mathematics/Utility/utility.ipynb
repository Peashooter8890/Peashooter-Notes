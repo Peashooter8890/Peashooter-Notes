{
 "cells": [
  {
   "cell_type": "markdown",
   "metadata": {
    "tags": []
   },
   "source": [
    "<h1 style = \"color:red;\">Useful Classes & Functions for Mathematics</h1>"
   ]
  },
  {
   "cell_type": "code",
   "execution_count": 58,
   "metadata": {
    "tags": []
   },
   "outputs": [],
   "source": [
    "from IPython.display import Math, display\n",
    "from copy import deepcopy\n",
    "import random"
   ]
  },
  {
   "cell_type": "markdown",
   "metadata": {
    "tags": []
   },
   "source": [
    "<h2 style = \"color:green;\">Sage-Specific</h2>"
   ]
  },
  {
   "cell_type": "markdown",
   "metadata": {},
   "source": [
    "<h3 style = \"color:orange;\">Columnify Rows</h3>"
   ]
  },
  {
   "cell_type": "code",
   "execution_count": 42,
   "metadata": {
    "tags": []
   },
   "outputs": [],
   "source": [
    "# makes a list of rows into a list of columns\n",
    "# there should be an equal amount of rows, but each row contains values from all columns\n",
    "# that way it looks like a column\n",
    "def columnify(row_list):\n",
    "    column_list = []\n",
    "    # make rows based on number of items in a column\n",
    "    [column_list.append([]) for val in row_list[0]]\n",
    "    \n",
    "    # distribute a single row into ith element of ALL columns\n",
    "    for i in range(len(row_list)):\n",
    "        for row in column_list:\n",
    "            row.append(row_list[i][column_list.index(row)])\n",
    "    \n",
    "    return column_list"
   ]
  },
  {
   "cell_type": "markdown",
   "metadata": {},
   "source": [
    "<h2 style = \"color:green;\">Number Theory</h2>"
   ]
  },
  {
   "cell_type": "markdown",
   "metadata": {},
   "source": [
    "<h3 style = \"color:orange;\">Factor Class</h3>"
   ]
  },
  {
   "cell_type": "code",
   "execution_count": 78,
   "metadata": {
    "tags": []
   },
   "outputs": [],
   "source": [
    "# generates list of factors from two numbers, has methods to choose a random one\n",
    "class factors:\n",
    "    def __init__(self,x):\n",
    "        self.x = x\n",
    "        self.list = self.factors_list(x)[0]\n",
    "        self.itselfKey = self.factors_list(x)[1]\n",
    "        self.minimal = self.factors_minimal()[0]\n",
    "        self.minimalKey = self.factors_minimal()[1]\n",
    "        self.random = self.factors_random()\n",
    "        self.isPrime = self.is_prime()\n",
    "        self.isPerfect = self.is_perfect()\n",
    "        \n",
    "    \n",
    "    # returns a list of two values: \n",
    "    # first value: list of tuples of factors\n",
    "    # second value: index value of the factor pair (1,x)\n",
    "    def factors_list(self,x):\n",
    "        result = []\n",
    "        index = 0\n",
    "        i = 1\n",
    "        # From 1 to square root number (anything above that will be duplicate):\n",
    "        while i**2 <= x:\n",
    "            if x % i == 0:\n",
    "                result.append(i)\n",
    "                result.append(x//i)\n",
    "            i += 1\n",
    "        # convert list of results into list of tuple pairs\n",
    "        list_result = [list(pair) for pair in zip(*[iter(result)]*2)]\n",
    "        for pair in list_result:\n",
    "            if pair.count(x) > 0:\n",
    "                index = list_result.index(pair)\n",
    "        return [list(list_result), index]\n",
    "    \n",
    "    # returns a list of two values: \n",
    "    # first value: the pair with minimum difference from each other\n",
    "    # second value: index value of the mentioned pair\n",
    "    def factors_minimal(self):\n",
    "        factors = deepcopy(self.list)\n",
    "        minimal_pair = factors[0]\n",
    "        pairs = iter(factors)\n",
    "        index = 0\n",
    "        next(pairs)\n",
    "        for pair in pairs:\n",
    "            if abs(pair[0] - pair[1]) < abs(minimal_pair[0] - minimal_pair[1]):\n",
    "                index = factors.index(pair)\n",
    "                minimal_pair = pair\n",
    "        return [minimal_pair,index]\n",
    "    \n",
    "    # returns a random pair of factors\n",
    "    def factors_random(self):\n",
    "        factors = self.list\n",
    "        return(random.choice(factors))\n",
    "    \n",
    "    # checks if number is prime\n",
    "    def is_prime(self):\n",
    "        return(len(self.list) == 1)\n",
    "    \n",
    "    # checks if number is perfect\n",
    "    def is_perfect(self):\n",
    "        # this is a list of lists, so use deepcopy() instead of copy()\n",
    "        testingList = deepcopy((self.list))\n",
    "        if (abs(self.minimal[1] - self.minimal[0]) == 0):\n",
    "            testingList[self.minimalKey].remove(self.minimal[0])\n",
    "        testingList[self.itselfKey].remove(self.x)\n",
    "        result = sum([sum(pair) for pair in testingList])\n",
    "        return (self.x == result)"
   ]
  },
  {
   "cell_type": "markdown",
   "metadata": {
    "tags": []
   },
   "source": [
    "<h3 style = \"color:orange;\">Factorial Function</h3>"
   ]
  },
  {
   "cell_type": "code",
   "execution_count": 79,
   "metadata": {
    "tags": []
   },
   "outputs": [],
   "source": [
    "def factorial(n):\n",
    "    ans = 1\n",
    "    for i in range(1,n+1):\n",
    "        ans *= i\n",
    "    return ans"
   ]
  }
 ],
 "metadata": {
  "kernelspec": {
   "display_name": "SageMath 9.7",
   "language": "sage",
   "name": "sagemath"
  },
  "language_info": {
   "codemirror_mode": {
    "name": "ipython",
    "version": 3
   },
   "file_extension": ".py",
   "mimetype": "text/x-python",
   "name": "python",
   "nbconvert_exporter": "python",
   "pygments_lexer": "ipython3",
   "version": "3.10.9"
  }
 },
 "nbformat": 4,
 "nbformat_minor": 4
}
