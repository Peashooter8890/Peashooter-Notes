{
 "cells": [
  {
   "cell_type": "markdown",
   "metadata": {
    "tags": []
   },
   "source": [
    "<h2>Import the Libraries</h2>"
   ]
  },
  {
   "cell_type": "code",
   "execution_count": 1,
   "metadata": {
    "tags": []
   },
   "outputs": [],
   "source": [
    "from IPython.display import Math, display\n",
    "import random"
   ]
  },
  {
   "cell_type": "markdown",
   "metadata": {},
   "source": [
    "<h2>Useful Classes & Functions</h2>"
   ]
  },
  {
   "cell_type": "markdown",
   "metadata": {},
   "source": [
    "<h3>Factor Class</h3>"
   ]
  },
  {
   "cell_type": "code",
   "execution_count": 2,
   "metadata": {
    "tags": []
   },
   "outputs": [
    {
     "data": {
      "text/plain": [
       "(10, 10)"
      ]
     },
     "execution_count": 2,
     "metadata": {},
     "output_type": "execute_result"
    }
   ],
   "source": [
    "# generates list of factors from two numbers, has methods to choose a random one\n",
    "class factors:\n",
    "    def __init__(self, x):\n",
    "        self.x = x\n",
    "        self.list = self.factors_list(x)\n",
    "        self.minimal = self.factors_minimal()\n",
    "        self.random = self.factors_random()\n",
    "        \n",
    "    \n",
    "    # returns list of tuples of factors\n",
    "    def factors_list(self,x):\n",
    "        result = []\n",
    "        i = 1\n",
    "        # From 1 to square root number (anything above that will be duplicate):\n",
    "        while i**2 <= x:\n",
    "            if x % i == 0:\n",
    "                result.append(i)\n",
    "                result.append(x//i)\n",
    "            i += 1\n",
    "        # convert list of results into list of tuple pairs\n",
    "        tuple_result = zip(*[iter(result)]*2)\n",
    "        return list(tuple_result)\n",
    "    \n",
    "    # returns a pair of factors whose numbers have the least difference\n",
    "    def factors_minimal(self):\n",
    "        factors = self.list\n",
    "        minimal_pair = factors[0]\n",
    "        pairs = iter(factors)\n",
    "        next(pairs)\n",
    "        for pair in pairs:\n",
    "            if abs(pair[0] - pair[1]) < abs(minimal_pair[0] - minimal_pair[1]):\n",
    "                minimal_pair = pair\n",
    "        return pair\n",
    "    \n",
    "    # returns a random pair of factors\n",
    "    def factors_random(self):\n",
    "        factors = self.list\n",
    "        return(random.choice(factors))"
   ]
  },
  {
   "cell_type": "markdown",
   "metadata": {},
   "source": [
    "<h2>Applying the $2^n - 1$ Theorem</h2>"
   ]
  },
  {
   "cell_type": "code",
   "execution_count": null,
   "metadata": {},
   "outputs": [],
   "source": []
  },
  {
   "cell_type": "code",
   "execution_count": 16,
   "metadata": {
    "tags": []
   },
   "outputs": [
    {
     "name": "stdout",
     "output_type": "stream",
     "text": [
      "1057 31\n"
     ]
    }
   ],
   "source": [
    "n = 15\n",
    "factor = factors(n).minimal\n",
    "a, b = min(factor), max(factor)\n",
    "first_factor = 1\n",
    "for i in range(1,a):\n",
    "    first_factor += 2^(b*i)\n",
    "second_factor = 2^b - 1\n",
    "\n",
    "print(first_factor,second_factor)"
   ]
  },
  {
   "cell_type": "code",
   "execution_count": null,
   "metadata": {},
   "outputs": [],
   "source": []
  }
 ],
 "metadata": {
  "kernelspec": {
   "display_name": "SageMath 9.7",
   "language": "sage",
   "name": "sagemath"
  },
  "language_info": {
   "codemirror_mode": {
    "name": "ipython",
    "version": 3
   },
   "file_extension": ".py",
   "mimetype": "text/x-python",
   "name": "python",
   "nbconvert_exporter": "python",
   "pygments_lexer": "ipython3",
   "version": "3.10.9"
  }
 },
 "nbformat": 4,
 "nbformat_minor": 4
}
