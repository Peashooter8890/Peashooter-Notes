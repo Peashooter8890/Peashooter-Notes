{
 "cells": [
  {
   "cell_type": "markdown",
   "metadata": {
    "tags": []
   },
   "source": [
    "<h1 style = \"color:red;\">Useful Classes & Functions for Mathematics</h1>"
   ]
  },
  {
   "cell_type": "code",
   "execution_count": 3,
   "metadata": {
    "tags": []
   },
   "outputs": [],
   "source": [
    "# Import all the stuff\n",
    "from IPython.display import Math, display\n",
    "from collections import OrderedDict\n",
    "from copy import deepcopy\n",
    "import random\n",
    "import os"
   ]
  },
  {
   "cell_type": "code",
   "execution_count": 4,
   "metadata": {
    "tags": []
   },
   "outputs": [
    {
     "name": "stdout",
     "output_type": "stream",
     "text": [
      "General Python file succesfully activated!\n",
      "Sage Specific file successfully activated!\n",
      "Number Theory file succesfully activated!\n",
      "Formal Logic file successfully activated!\n",
      "Digital Algebra file succesfully activated!\n"
     ]
    }
   ],
   "source": [
    "# Run all the notebooks\n",
    "%run /Users/Studying/notes/mathematics/Utility/general_python/general_python.ipynb\n",
    "%run /Users/Studying/notes/mathematics/Utility/sage_specific/sage_specific.ipynb\n",
    "%run /Users/Studying/notes/mathematics/Utility/number_theory/number_theory.ipynb\n",
    "%run /Users/Studying/notes/mathematics/Utility/formal_logic/formal_logic.ipynb\n",
    "%run /Users/Studying/notes/mathematics/Utility/digital_algebra/equation_manipulator.ipynb"
   ]
  },
  {
   "cell_type": "markdown",
   "metadata": {
    "tags": []
   },
   "source": [
    "<h2 style = \"color:green;\">Elementary Algebra</h2>"
   ]
  },
  {
   "cell_type": "markdown",
   "metadata": {
    "tags": []
   },
   "source": [
    "<h3 style = \"color:orange;\">Digital Algebra System</h3>"
   ]
  },
  {
   "cell_type": "raw",
   "metadata": {
    "tags": []
   },
   "source": [
    "def digitalAlgebra(eq):\n",
    "    # cleans and formats equation\n",
    "    eq = equationFormatter(eq)\n",
    "    eq = termGrouper(eq)\n",
    "    return eq\n",
    "\n",
    "def getDegree(term):\n",
    "    return None\n",
    "\n"
   ]
  },
  {
   "cell_type": "raw",
   "metadata": {
    "tags": []
   },
   "source": [
    "eq = 'x^2+2*x-4*x+5' \n",
    "print(digitalAlgebra(eq))"
   ]
  },
  {
   "cell_type": "raw",
   "metadata": {
    "tags": []
   },
   "source": [
    "eq = 'x^2+2*x-4*x+5=5'\n",
    "operators = ['+','-','=']\n",
    "leftTerms, rightTerms = [], []\n",
    "keys = []\n",
    "\n",
    "# get operator indices and store in keys\n",
    "for operator in operators:\n",
    "    temp = find(operator,eq)\n",
    "    for num in temp:\n",
    "        keys.append(num)      \n",
    "keys.sort()\n",
    "keysCopy = deepcopy(keys)\n",
    "\n",
    "# collect all right terms\n",
    "temp = 0\n",
    "for index in keys:\n",
    "    if '=' in eq[temp:index]:\n",
    "        break\n",
    "    if eq[temp:index][0] in operators:\n",
    "        leftTerms.append(eq[temp:index][1:])\n",
    "    else:\n",
    "        leftTerms.append(eq[temp:index])\n",
    "    temp = index\n",
    "    keysCopy.remove(index)\n",
    "\n",
    "# collect n - 1 left terms\n",
    "for index in keysCopy:\n",
    "    if eq[temp:index][0] in operators:\n",
    "        rightTerms.append(eq[temp:index][1:])\n",
    "    else:\n",
    "        rightTerms.append(eq[temp:index])\n",
    "    temp = index\n",
    "\n",
    "# collect nth left term\n",
    "if eq[temp:][0] in operators:\n",
    "        rightTerms.append(eq[temp:][1:])\n",
    "else:\n",
    "    rightTerms.append(eq[temp:])"
   ]
  },
  {
   "cell_type": "raw",
   "metadata": {
    "tags": []
   },
   "source": [
    "rightTerms,leftTerms = []\n",
    "rightTerms.append(5)\n",
    "\n",
    "print(leftTerms)"
   ]
  },
  {
   "cell_type": "raw",
   "metadata": {},
   "source": [
    "people = {\n",
    "    rightTerm1: {'symbol': 'x', 'multiple': '1', 'degree': '2'},\n",
    "    rightTerm2: {'symbol': 'x', 'multiple': '4', 'degree': '1'},\n",
    "    rightTerm3: {'symbol': '1', 'multiple': '4', 'degree': '1'},\n",
    "}"
   ]
  }
 ],
 "metadata": {
  "kernelspec": {
   "display_name": "SageMath 9.7",
   "language": "sage",
   "name": "sagemath"
  },
  "language_info": {
   "codemirror_mode": {
    "name": "ipython",
    "version": 3
   },
   "file_extension": ".py",
   "mimetype": "text/x-python",
   "name": "python",
   "nbconvert_exporter": "python",
   "pygments_lexer": "ipython3",
   "version": "3.10.9"
  }
 },
 "nbformat": 4,
 "nbformat_minor": 4
}
