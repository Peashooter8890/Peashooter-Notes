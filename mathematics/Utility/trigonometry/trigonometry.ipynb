{
 "cells": [
  {
   "cell_type": "code",
   "execution_count": 6,
   "id": "69e19583-ad74-4847-ae54-34225e973b5d",
   "metadata": {
    "tags": []
   },
   "outputs": [
    {
     "ename": "NameError",
     "evalue": "name 'sinAddition' is not defined",
     "output_type": "error",
     "traceback": [
      "\u001b[0;31m---------------------------------------------------------------------------\u001b[0m",
      "\u001b[0;31mNameError\u001b[0m                                 Traceback (most recent call last)",
      "Cell \u001b[0;32mIn[6], line 1\u001b[0m\n\u001b[0;32m----> 1\u001b[0m \u001b[43msinAddition\u001b[49m(x\u001b[38;5;241m+\u001b[39my)\n",
      "\u001b[0;31mNameError\u001b[0m: name 'sinAddition' is not defined"
     ]
    }
   ],
   "source": [
    "class trigIdentity:\n",
    "    def __init__(self):\n",
    "        self.sinAdd = sinAddFunc(x,y)\n",
    "        self.sinSubtract = sinSubtractFunc(x,y)\n",
    "        self.cosAdd = sinSubtractFunc(x,y)\n",
    "        self.codSubtract si\n",
    "        self."
   ]
  }
 ],
 "metadata": {
  "kernelspec": {
   "display_name": "SageMath 9.7",
   "language": "sage",
   "name": "sagemath"
  },
  "language_info": {
   "codemirror_mode": {
    "name": "ipython",
    "version": 3
   },
   "file_extension": ".py",
   "mimetype": "text/x-python",
   "name": "python",
   "nbconvert_exporter": "python",
   "pygments_lexer": "ipython3",
   "version": "3.10.9"
  }
 },
 "nbformat": 4,
 "nbformat_minor": 5
}
