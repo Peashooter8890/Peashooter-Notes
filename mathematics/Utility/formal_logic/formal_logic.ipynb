{
 "cells": [
  {
   "cell_type": "markdown",
   "id": "81323e5b-a4e3-4c5e-b51c-449c2df76dca",
   "metadata": {},
   "source": [
    "<h2 style = \"color:green;\">Formal Logic</h2>"
   ]
  },
  {
   "cell_type": "markdown",
   "id": "9b60ccd7-4faa-4244-89c9-26b8df21db2c",
   "metadata": {},
   "source": [
    "Operations and constructs relating to mathematical/formal logic. "
   ]
  },
  {
   "cell_type": "markdown",
   "id": "96e8bac1-9b75-4dc6-be31-4eae101be804",
   "metadata": {},
   "source": [
    "<h3 style = \"color:orange;\">Logic Construct Class</h3>"
   ]
  },
  {
   "cell_type": "markdown",
   "id": "19a456c1-74d6-4a16-b56b-7d86cede8858",
   "metadata": {},
   "source": [
    "A logic class that takes in a list of 'machine logic' inputs (logic executable in python syntax) and does the following:\n",
    "- Make a latex version of all input logics\n",
    "- Make an evaluated list of four scenarios (FF, FT, TF, TT) for each given logic\n",
    "- Make a truth table that combines all given logics"
   ]
  },
  {
   "cell_type": "code",
   "execution_count": null,
   "id": "10bed6f4-889c-4df3-abcc-42fbdfb22121",
   "metadata": {},
   "outputs": [],
   "source": [
    "class logicModel:\n",
    "    def __init__(self,logic):\n",
    "        self.machineLogic = logic\n",
    "        self.latexLogic = self.latexLogicFunc(logic)\n",
    "        self.evaluateList = self.evaluateListFunc(logic)\n",
    "        self.truthTable = self.truthTableFunc(logic)\n",
    "    \n",
    "    # determines latex form of all logic statements\n",
    "    # all logic inputs to class object are assumed to be python-executable\n",
    "    def latexLogicFunc(self,logic):\n",
    "        latexList = []\n",
    "        logicCopy = deepcopy(logic)\n",
    "        replacements = OrderedDict([('and', '\\\\land'), ('or', '\\\\lor'), ('not', '\\\\neg')])\n",
    "        for statement in logicCopy:\n",
    "            for i,j in replacements.items():\n",
    "                statement = statement.replace(i, j)\n",
    "            statement = '$' + statement + '$'\n",
    "            latexList.append(statement)\n",
    "        return latexList\n",
    "        \n",
    "    # for each logic statement, returns a list of four values for their truth table values\n",
    "    def evaluateListFunc(self,logic):\n",
    "        truthpairs = [[False,False], [False,True], [True,False], [True,True]]\n",
    "        multiList = []\n",
    "        for statement in logic:\n",
    "            singleList = []\n",
    "            for pair in truthpairs:\n",
    "                P, Q = pair[0], pair[1]\n",
    "                boolValue = eval(statement)\n",
    "                singleList.append(boolValue)\n",
    "            multiList.append(singleList)\n",
    "        return multiList\n",
    "    \n",
    "    # returns a table object (truth table) of P, Q, and the logic statement\n",
    "    def truthTableFunc(self,logic):\n",
    "        # set up the table contents\n",
    "        row_P, row_Q = [False,False,True,True], [False,True,False,True]\n",
    "        column_list = [row_P,row_Q]\n",
    "        for evaluated in self.evaluateList:\n",
    "            column_list.append(evaluated)\n",
    "        column_list = columnify(column_list)\n",
    "        \n",
    "        # set up the headers\n",
    "        column_headers = ['$P$','$Q$']\n",
    "        for expression in self.latexLogic:\n",
    "            column_headers.append(expression)\n",
    "\n",
    "        truthTable = table(column_list, header_row=column_headers, frame=True)\n",
    "        return truthTable"
   ]
  },
  {
   "cell_type": "markdown",
   "id": "771eae89-ce14-4150-b911-214c67caac2b",
   "metadata": {},
   "source": [
    "Uses logicModel class to represent symmetric difference in two expressions"
   ]
  },
  {
   "cell_type": "code",
   "execution_count": 1,
   "id": "8c1fa4fd-1337-4fda-adf8-dc040cb6cdce",
   "metadata": {
    "tags": []
   },
   "outputs": [],
   "source": [
    "def symmetric_difference(exp1,exp2):\n",
    "    symm_diff = (exp1 or exp2) and not(exp1 and exp2)\n",
    "    return logicModel(symm_diff)"
   ]
  },
  {
   "cell_type": "code",
   "execution_count": 1,
   "id": "1ad35a31-376f-45ba-badb-0ac9cb651b0c",
   "metadata": {
    "tags": []
   },
   "outputs": [
    {
     "name": "stdout",
     "output_type": "stream",
     "text": [
      "Formal Logic file successfully activated!\n"
     ]
    }
   ],
   "source": [
    "print('Formal Logic file successfully activated!')"
   ]
  }
 ],
 "metadata": {
  "kernelspec": {
   "display_name": "SageMath 9.7",
   "language": "sage",
   "name": "sagemath"
  },
  "language_info": {
   "codemirror_mode": {
    "name": "ipython",
    "version": 3
   },
   "file_extension": ".py",
   "mimetype": "text/x-python",
   "name": "python",
   "nbconvert_exporter": "python",
   "pygments_lexer": "ipython3",
   "version": "3.10.9"
  }
 },
 "nbformat": 4,
 "nbformat_minor": 5
}
