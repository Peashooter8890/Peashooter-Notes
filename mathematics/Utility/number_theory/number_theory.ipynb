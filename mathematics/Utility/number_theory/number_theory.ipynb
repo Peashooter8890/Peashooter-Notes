{
 "cells": [
  {
   "cell_type": "markdown",
   "id": "6d670c4b-41e0-455a-86d0-3e1bc28808ea",
   "metadata": {},
   "source": [
    "<h2 style = \"color:green;\">Number Theory</h2>"
   ]
  },
  {
   "cell_type": "markdown",
   "id": "ddcc4e34-c9fb-44cf-acc1-2f3b66b35872",
   "metadata": {},
   "source": [
    "Functions and classes that deal with the manipulation of numbers. "
   ]
  },
  {
   "cell_type": "code",
   "execution_count": 84,
   "id": "70394d1e-c895-47fc-aeb0-d5035ba228e6",
   "metadata": {
    "tags": []
   },
   "outputs": [],
   "source": [
    "import itertools, random\n",
    "from copy import deepcopy\n",
    "from collections import Counter"
   ]
  },
  {
   "cell_type": "markdown",
   "id": "89d3362d-560e-4231-af97-6ef0ca393fec",
   "metadata": {},
   "source": [
    "<h3 style = \"color:orange;\">Factor Class</h3>"
   ]
  },
  {
   "cell_type": "markdown",
   "id": "03254980-d826-4159-92bf-570a3f6899a7",
   "metadata": {},
   "source": [
    "requires an integer x as input<br>\n",
    "has many properties regarding the factors of x:<br>\n",
    "\n",
    "<b>self.factorList</b> returns a list of factor pairs (list of lists)<br>\n",
    "<b>self.numericalList</b> returns a single dimensional list containing elements of factor pairs<br>\n",
    "<b>self.MDP</b> returns a factor pair of minimal difference<br>\n",
    "<b>self.GDP</b> returns a factor pair of greatest difference<br>\n",
    "<b>self.randomFactor</b> returns a random factor pair<br>\n",
    "<b>self.isPrime</b> returns a boolean value on whether or not x is prime<br>\n",
    "<b>self.isPerfect</b> returns a boolean value on whether or not x is perfect"
   ]
  },
  {
   "cell_type": "code",
   "execution_count": 74,
   "id": "2df6dd1e-d28f-4466-b952-0eb5a19703c5",
   "metadata": {
    "tags": []
   },
   "outputs": [],
   "source": [
    "class factors:\n",
    "    def __init__(self,x):\n",
    "        self.factorList = self.factors_list(x)\n",
    "        self.MDP = self.factors_minimal()\n",
    "        self.GDP = self.factors_greatest()\n",
    "        self.randomFactor = self.factors_random()\n",
    "        self.isPrime = self.is_prime()\n",
    "        self.numericalList = self.numerical_list()\n",
    "        self.isPerfect = self.is_perfect(x)\n",
    "        \n",
    "    # returns a list of list of factors\n",
    "    def factors_list(self,x):\n",
    "        # From 1 to square root number, add factor pairs to list.\n",
    "        # So in case of 16, it would be [1,16], [2,8], [4,4]\n",
    "        # notice how we stop at the square root [4,4] because...\n",
    "        # ...if we keep going further like [8,2] then we just have duplicates\n",
    "        result = []\n",
    "        i = 1\n",
    "        while i**2 <= x:\n",
    "            if x % i == 0:\n",
    "                result.append(i)\n",
    "                result.append(x//i)\n",
    "            i += 1\n",
    "        # convert list of results into a list of lists (a list for each pair)\n",
    "        list_result = [list(pair) for pair in zip(*[iter(result)]*2)]\n",
    "        return list_result\n",
    "    \n",
    "    # returns a factor pair with minimal difference from each other\n",
    "    def factors_minimal(self):\n",
    "        factors = deepcopy(self.factorList)\n",
    "        minimal_pair = inputComparison(factors,greatest=False)\n",
    "        return minimal_pair\n",
    "    \n",
    "    # returns a factor pair with greatest difference from each other\n",
    "    def factors_greatest(self):\n",
    "        factors = deepcopy(self.factorList)\n",
    "        greatest_pair = inputComparison(factors,greatest=True)\n",
    "        return greatest_pair\n",
    "    \n",
    "    # returns a random pair of factors\n",
    "    def factors_random(self):\n",
    "        return(random.choice(self.factorList))\n",
    "    \n",
    "    # checks if number is prime\n",
    "    def is_prime(self):\n",
    "        return(len(self.factorList) == 1)\n",
    "    \n",
    "    # returns numerical list of prime factors \n",
    "    def numerical_list(self):\n",
    "        factors = deepcopy(self.factorList)\n",
    "        # make the factors list (list of lists) into a single list and remove duplicates\n",
    "        numerical_factors = list(set(itertools.chain.from_iterable(factors)))\n",
    "        return numerical_factors\n",
    "    \n",
    "    # checks if number is perfect\n",
    "    def is_perfect(self,x):\n",
    "        numerical_factors = deepcopy(self.numericalList)\n",
    "        # if all factors excluding itself add up to itself, it is a perfect number\n",
    "        numerical_factors.remove(x)\n",
    "        if sum(numerical_factors) == x:\n",
    "            return True\n",
    "        return False"
   ]
  },
  {
   "cell_type": "markdown",
   "id": "10c52550-7942-4706-8405-0c18076f3701",
   "metadata": {},
   "source": [
    "<h3 style = \"color:orange;\">GCF Function</h3>"
   ]
  },
  {
   "cell_type": "markdown",
   "id": "a1715fb5-d3ac-49f8-ad43-7e996c6b5ddf",
   "metadata": {},
   "source": [
    "requires a list of numbers as input<br>\n",
    "return the GCF (greatest common factor) of the list of numbers<br>\n",
    "if only one number is provided or if there is no GCF other than 1, returns None"
   ]
  },
  {
   "cell_type": "code",
   "execution_count": 98,
   "id": "fa78b179-5785-43a6-8ac2-176de5ac144e",
   "metadata": {
    "tags": []
   },
   "outputs": [],
   "source": [
    "def gcf(num_list):\n",
    "    # if the list contains one or less numbers, return None\n",
    "    if len(num_list) <= 1:\n",
    "        return None\n",
    "    \n",
    "    # load a list of factors of all integers into a list\n",
    "    listOfFactors = []\n",
    "    for num in num_list:\n",
    "        factor = factors(num)\n",
    "        listOfFactors.append(factor.numericalList)\n",
    "        \n",
    "    # combine the list into a single list with duplicates\n",
    "    # make a new list that contains only those duplicates (aka common factors)\n",
    "    # those duplicates should NOT be 1\n",
    "    combinedList = list(itertools.chain.from_iterable(listOfFactors))\n",
    "    combinedList.remove(1)\n",
    "    \n",
    "    # check if a duplicate presents itself n times where n is the amount of numbers in the input list\n",
    "    # [2,4,6] contain 3 numbers and they all have a factor of 2. So we would check if 2 occurs 3 times\n",
    "    n = len(num_list)\n",
    "    combinedFactors = list(set([x for x in combinedList if combinedList.count(x) == n]))\n",
    "    if len(combinedFactors) == 0:\n",
    "        return None\n",
    "    return max(combinedFactors)"
   ]
  },
  {
   "cell_type": "markdown",
   "id": "6c9e2600-21e6-4325-a3f5-a7e0b716cf08",
   "metadata": {
    "tags": []
   },
   "source": [
    "<h3 style = \"color:orange;\">Factorial Function</h3>"
   ]
  },
  {
   "cell_type": "markdown",
   "id": "68c93872-a2da-4581-b324-f7e4f5fb371d",
   "metadata": {},
   "source": [
    "requires an integer n as input<br>\n",
    "returns the factorial of n, commonly called <b> n!</b>"
   ]
  },
  {
   "cell_type": "code",
   "execution_count": 2,
   "id": "5d6c8705-3099-44b7-9c2f-52211c071826",
   "metadata": {
    "tags": []
   },
   "outputs": [],
   "source": [
    "def factorial(n):\n",
    "    ans = 1\n",
    "    for i in range(1,n+1):\n",
    "        ans *= i\n",
    "    return ans"
   ]
  },
  {
   "cell_type": "markdown",
   "id": "58aa02e2-9991-4da9-aab5-2141138053e0",
   "metadata": {
    "tags": []
   },
   "source": [
    "<h3 style = \"color:orange;\">Pair Comparison Function</h3>"
   ]
  },
  {
   "cell_type": "markdown",
   "id": "8ce74a97-674f-4d83-ada1-122dc4f46382",
   "metadata": {},
   "source": [
    "requires a list of integer pairs as input, e.g. (x,y)<br>\n",
    "returns the pair of greatest absolute difference (if only one pair is given, returns that pair)<br>\n",
    "if an optional argument (great = False) is given, return the pair of least absolute difference"
   ]
  },
  {
   "cell_type": "code",
   "execution_count": 61,
   "id": "3a4e31f6-4e37-4e03-ac79-f2f425cfd2b2",
   "metadata": {
    "tags": []
   },
   "outputs": [],
   "source": [
    "def absoluteDifference(pair):\n",
    "    return abs(pair[0] - pair[1])\n",
    "\n",
    "def inputComparison(integerPairs, greatest=True):\n",
    "    # base case\n",
    "    winnerPair = integerPairs[0]\n",
    "    difference = absoluteDifference(winnerPair)\n",
    "    integerPairs.pop(0)\n",
    "    # if only one pair is provided as input, simply return its absolute difference\n",
    "    if len(integerPairs) == 0: \n",
    "        return winnerPair\n",
    "    # return the greatest difference pair from the list of pairs\n",
    "    elif (greatest == True):\n",
    "        for pair in integerPairs:\n",
    "            nextPairDifference = absoluteDifference(pair)\n",
    "            if (nextPairDifference) > difference:\n",
    "                winnerPair = pair\n",
    "        return winnerPair\n",
    "    # return the least difference pair from the list of pairs\n",
    "    for pair in integerPairs:\n",
    "            nextPairDifference = absoluteDifference(pair)\n",
    "            if (nextPairDifference) < difference:\n",
    "                winnerPair = pair\n",
    "    return winnerPair"
   ]
  },
  {
   "cell_type": "code",
   "execution_count": 1,
   "id": "d09a23a5-cefb-429a-89f8-f3f910bfbfa3",
   "metadata": {
    "tags": []
   },
   "outputs": [
    {
     "name": "stdout",
     "output_type": "stream",
     "text": [
      "Number Theory file succesfully activated!\n"
     ]
    }
   ],
   "source": [
    "print('Number Theory file succesfully activated!')"
   ]
  }
 ],
 "metadata": {
  "kernelspec": {
   "display_name": "SageMath 9.7",
   "language": "sage",
   "name": "sagemath"
  },
  "language_info": {
   "codemirror_mode": {
    "name": "ipython",
    "version": 3
   },
   "file_extension": ".py",
   "mimetype": "text/x-python",
   "name": "python",
   "nbconvert_exporter": "python",
   "pygments_lexer": "ipython3",
   "version": "3.10.9"
  }
 },
 "nbformat": 4,
 "nbformat_minor": 5
}
